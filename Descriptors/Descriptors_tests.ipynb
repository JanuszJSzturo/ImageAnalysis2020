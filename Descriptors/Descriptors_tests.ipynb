{
 "cells": [
  {
   "cell_type": "code",
   "execution_count": 3,
   "metadata": {},
   "outputs": [
    {
     "ename": "ModuleNotFoundError",
     "evalue": "No module named 'utils'",
     "output_type": "error",
     "traceback": [
      "\u001B[1;31m---------------------------------------------------------------------------\u001B[0m",
      "\u001B[1;31mModuleNotFoundError\u001B[0m                       Traceback (most recent call last)",
      "\u001B[1;32m<ipython-input-3-4a6eeaa8a4e1>\u001B[0m in \u001B[0;36m<module>\u001B[1;34m\u001B[0m\n\u001B[0;32m      2\u001B[0m \u001B[1;32mimport\u001B[0m \u001B[0mcv2\u001B[0m\u001B[1;33m\u001B[0m\u001B[1;33m\u001B[0m\u001B[0m\n\u001B[0;32m      3\u001B[0m \u001B[1;32mimport\u001B[0m \u001B[0mmatplotlib\u001B[0m\u001B[1;33m.\u001B[0m\u001B[0mpyplot\u001B[0m \u001B[1;32mas\u001B[0m \u001B[0mplt\u001B[0m\u001B[1;33m\u001B[0m\u001B[1;33m\u001B[0m\u001B[0m\n\u001B[1;32m----> 4\u001B[1;33m \u001B[1;32mfrom\u001B[0m \u001B[0mutils\u001B[0m \u001B[1;32mimport\u001B[0m \u001B[0mmnist_reader\u001B[0m\u001B[1;33m\u001B[0m\u001B[1;33m\u001B[0m\u001B[0m\n\u001B[0m\u001B[0;32m      5\u001B[0m \u001B[1;32mfrom\u001B[0m \u001B[0mskimage\u001B[0m\u001B[1;33m.\u001B[0m\u001B[0mfeature\u001B[0m \u001B[1;32mimport\u001B[0m \u001B[0mgreycomatrix\u001B[0m\u001B[1;33m,\u001B[0m \u001B[0mgreycoprops\u001B[0m\u001B[1;33m\u001B[0m\u001B[1;33m\u001B[0m\u001B[0m\n\u001B[0;32m      6\u001B[0m \u001B[1;32mimport\u001B[0m \u001B[0mpandas\u001B[0m \u001B[1;32mas\u001B[0m \u001B[0mpd\u001B[0m\u001B[1;33m\u001B[0m\u001B[1;33m\u001B[0m\u001B[0m\n",
      "\u001B[1;31mModuleNotFoundError\u001B[0m: No module named 'utils'"
     ]
    }
   ],
   "source": [
    "import numpy as np\n",
    "import cv2\n",
    "import matplotlib.pyplot as plt\n",
    "from utils import mnist_reader\n",
    "from skimage.feature import greycomatrix, greycoprops\n",
    "import pandas as pd\n",
    "from sklearn.model_selection import train_test_split\n",
    "from sklearn.metrics import confusion_matrix, accuracy_score\n",
    "from sklearn.neighbors import KNeighborsClassifier\n",
    "plt.rcParams[\"figure.figsize\"] = (10,5)"
   ]
  },
  {
   "cell_type": "code",
   "execution_count": 2,
   "metadata": {},
   "outputs": [],
   "source": [
    "test_img = np.array([[0,0,1,1],[0,0,1,1],[0,2,2,2],[2,2,3,3]])"
   ]
  },
  {
   "cell_type": "code",
   "execution_count": 3,
   "metadata": {
    "scrolled": true
   },
   "outputs": [
    {
     "data": {
      "text/plain": [
       "array([[0, 0, 1, 1],\n",
       "       [0, 0, 1, 1],\n",
       "       [0, 2, 2, 2],\n",
       "       [2, 2, 3, 3]])"
      ]
     },
     "execution_count": 3,
     "metadata": {},
     "output_type": "execute_result"
    }
   ],
   "source": [
    "test_img"
   ]
  },
  {
   "cell_type": "code",
   "execution_count": 4,
   "metadata": {
    "scrolled": false
   },
   "outputs": [
    {
     "data": {
      "text/plain": [
       "<matplotlib.image.AxesImage at 0x1bfb5b9aef0>"
      ]
     },
     "execution_count": 4,
     "metadata": {},
     "output_type": "execute_result"
    },
    {
     "data": {
      "image/png": "[encoded data removed]",
      "text/plain": [
       "<Figure size 720x360 with 1 Axes>"
      ]
     },
     "metadata": {
      "needs_background": "light"
     },
     "output_type": "display_data"
    }
   ],
   "source": [
    "plt.imshow(test_img,cmap='gray')"
   ]
  },
  {
   "cell_type": "code",
   "execution_count": 5,
   "metadata": {},
   "outputs": [],
   "source": [
    "glcm = greycomatrix(test_img,[1],[np.pi/2],4,symmetric=True,normed=True)"
   ]
  },
  {
   "cell_type": "code",
   "execution_count": 6,
   "metadata": {
    "scrolled": true
   },
   "outputs": [
    {
     "name": "stdout",
     "output_type": "stream",
     "text": [
      "[0.25       0.         0.08333333 0.         0.         0.16666667\n",
      " 0.08333333 0.         0.08333333 0.08333333 0.08333333 0.08333333\n",
      " 0.         0.         0.08333333 0.        ]\n"
     ]
    }
   ],
   "source": [
    "print(glcm.ravel())"
   ]
  },
  {
   "cell_type": "markdown",
   "metadata": {},
   "source": [
    "## GLDV"
   ]
  },
  {
   "cell_type": "code",
   "execution_count": 7,
   "metadata": {},
   "outputs": [],
   "source": [
    "#GLDV (Grey-level difference vector)\n",
    "def gldv(glcm):\n",
    "    gldv = np.zeros(len(glcm))\n",
    "    for i in range(len(glcm)):\n",
    "        if(i>0):\n",
    "            gldv[i]=np.trace(glcm, offset=i)*2\n",
    "        else:\n",
    "            gldv[i]=np.trace(glcm, offset=i)\n",
    "            \n",
    "    return gldv"
   ]
  },
  {
   "cell_type": "code",
   "execution_count": 8,
   "metadata": {},
   "outputs": [],
   "source": [
    "a = gldv(glcm)"
   ]
  },
  {
   "cell_type": "code",
   "execution_count": 9,
   "metadata": {
    "scrolled": true
   },
   "outputs": [
    {
     "data": {
      "text/plain": [
       "array([0.5       , 0.33333333, 0.16666667, 0.        ])"
      ]
     },
     "execution_count": 9,
     "metadata": {},
     "output_type": "execute_result"
    }
   ],
   "source": [
    "a"
   ]
  },
  {
   "cell_type": "markdown",
   "metadata": {},
   "source": [
    "## GLCM  Measures"
   ]
  },
  {
   "cell_type": "markdown",
   "metadata": {},
   "source": [
    "GLCM proerties from skiimage  \n",
    "greycoprops(GLCM, prop='measure')  \n",
    "measure   \n",
    "‘contrast’: $\\sum_{i,j=0}^{levels-1} P_{i,j}(i-j)^2$  \n",
    "‘dissimilarity’: $\\sum_{i,j=0}^{levels-1} P_{i,j}|i-j|$  \n",
    "‘homogeneity’ : $\\sum_{i,j=0}^{levels-1} \\frac{P_{i,j}}{1+(i-j)^2}$  \n",
    "‘ASM’$\\sum_{i,j=0}^{levels-1} P^2_{i,j}$   \n",
    "‘energy’ $\\sqrt{ASM}$  \n",
    "‘correlation’  $\\sum_{i,j=0}^{levels-1} P_{i,j}\\frac{(i-\\mu_i)(j-\\mu_j)}{\\sqrt{\\sigma_i^2\\sigma_j^2}}$"
   ]
  },
  {
   "cell_type": "code",
   "execution_count": 5,
   "metadata": {},
   "outputs": [],
   "source": [
    "def glcm_props (glcm):\n",
    "    contrast = greycoprops(glcm,'contrast')\n",
    "    dissimilarity = greycoprops(glcm,'dissimilarity')\n",
    "    homogeneity = greycoprops(glcm,'homogeneity')\n",
    "    ASM = greycoprops(glcm,'ASM')\n",
    "    #energy = greycoprops(glcm,'energy')\n",
    "    correlation = greycoprops(glcm,'correlation')\n",
    "    return np.array([dissimilarity, correlation, contrast, homogeneity, ASM])"
   ]
  },
  {
   "cell_type": "markdown",
   "metadata": {},
   "source": [
    "## Load Zalando fashion data"
   ]
  },
  {
   "cell_type": "code",
   "execution_count": 6,
   "metadata": {},
   "outputs": [],
   "source": [
    "X_train, y_train = mnist_reader.load_mnist('data/fashion', kind='train')\n",
    "X_test, y_test = mnist_reader.load_mnist('data/fashion', kind='t10k')"
   ]
  },
  {
   "cell_type": "markdown",
   "metadata": {},
   "source": [
    "Juntamos ambos datasets, ya que vamos a crear nuestro propio dataset más pequeño. La carga de datos que proponen es para realizar un entranamiento de una red neruonal, en nuestro caso vamos a obtener descriptores de las imágenes y utilizar un KNN para realizar la clasificación."
   ]
  },
  {
   "cell_type": "code",
   "execution_count": 7,
   "metadata": {},
   "outputs": [],
   "source": [
    "X_dataset = np.concatenate((X_train,X_test))\n",
    "Y_dataset = np.concatenate((y_train,y_test))"
   ]
  },
  {
   "cell_type": "code",
   "execution_count": 8,
   "metadata": {},
   "outputs": [],
   "source": [
    "y_labels_names = ['T-shirt/top','Trouser','Pullover','Dress','Coat','Sandal','Shirt','Sneaker','Bag','Ankle boot']"
   ]
  },
  {
   "cell_type": "markdown",
   "metadata": {},
   "source": [
    "## Make own dataset (smaller)"
   ]
  },
  {
   "cell_type": "markdown",
   "metadata": {},
   "source": [
    "De todo el conjunto queremos sacar 100 elementos de 4 clases para obtener los descriptores y clasificar."
   ]
  },
  {
   "cell_type": "code",
   "execution_count": 9,
   "metadata": {},
   "outputs": [],
   "source": [
    "def my_sample(X, Y, labels, elements = 100):\n",
    "    # labels: array con las clases que queremos coger entre 0 y 9 incluidos.\n",
    "    \n",
    "    # elements: especificamos cuántos elementos de cada clase queremos coger, máximo de 7000 ya que el conjunto de\n",
    "    # Zalando tiene 6000+1000 en train+test para cada clase\n",
    "    \n",
    "    #Creamos nuestro propio dataset reducido\n",
    "    my_X_dataset = np.zeros((elements*len(labels),28*28))\n",
    "    my_Y_dataset = np.zeros(elements*len(labels))\n",
    "    for i in range(len(labels)):\n",
    "        ind = (Y==labels[i])\n",
    "        my_X_dataset[i*elements:elements*(i+1),] = X[ind][0:elements]\n",
    "        my_Y_dataset[i*elements:elements*(i+1)] = Y[ind][0:elements]\n",
    "\n",
    "    my_X_dataset = my_X_dataset.astype(np.uint8)\n",
    "    my_Y_dataset = my_Y_dataset.astype(np.uint8)\n",
    "    return my_X_dataset, my_Y_dataset"
   ]
  },
  {
   "cell_type": "code",
   "execution_count": 33,
   "metadata": {},
   "outputs": [],
   "source": [
    "my_X_dataset, my_Y_dataset = my_sample(X_dataset, Y_dataset, elements=200, labels = [0,1,5,8]) #0 1 7 8"
   ]
  },
  {
   "cell_type": "code",
   "execution_count": 34,
   "metadata": {},
   "outputs": [],
   "source": [
    "# Dividimos nuestro dataset en train y test mediante el uso de train_test_split de scikit-learn\n",
    "my_X_train, my_X_test, my_y_train, my_y_test = train_test_split(my_X_dataset, my_Y_dataset, test_size=0.2, random_state=42)"
   ]
  },
  {
   "cell_type": "code",
   "execution_count": 35,
   "metadata": {},
   "outputs": [
    {
     "name": "stdout",
     "output_type": "stream",
     "text": [
      "[0 1 5 8]\n",
      "[163 157 165 155]\n"
     ]
    }
   ],
   "source": [
    "# Revisamos la distribución que ha hecho scikit de los datos\n",
    "u, counts = np.unique(my_y_train, return_counts=True)\n",
    "print(u)\n",
    "print(counts)"
   ]
  },
  {
   "cell_type": "code",
   "execution_count": 23,
   "metadata": {
    "scrolled": true
   },
   "outputs": [
    {
     "data": {
      "text/plain": [
       "(320, 784)"
      ]
     },
     "execution_count": 23,
     "metadata": {},
     "output_type": "execute_result"
    }
   ],
   "source": [
    "my_X_train.shape"
   ]
  },
  {
   "cell_type": "code",
   "execution_count": 24,
   "metadata": {},
   "outputs": [],
   "source": [
    "# Función para calcular las GLCM y sus métricas. Devuelve las GLCM y sus métricas.\n",
    "# Suponemos que se pasa un dataset de [N,(28*28)] imágenes en escala de grises\n",
    "def calc_glcm (dataset):\n",
    "    measures = np.zeros([len(dataset),5])\n",
    "    # Calulamos todas las medidas para cada imagen.\n",
    "    glcm_hists = np.zeros([len(dataset),256*256])\n",
    "    for i in range(len(measures)):\n",
    "        image = my_X_train[i].reshape(28,28).copy()\n",
    "        glcm = greycomatrix(image,distances=[1],angles=[0],levels=256,symmetric=True,normed=True)\n",
    "        glcm_hists[i,:] = glcm.flatten()\n",
    "        measures[i,:] = glcm_props(glcm).flatten()\n",
    "    return glcm_hists, measures\n"
   ]
  },
  {
   "cell_type": "code",
   "execution_count": 186,
   "metadata": {},
   "outputs": [],
   "source": [
    "# Función para calcular las GLCM y sus métricas. Devuelve las GLCM y sus métricas.\n",
    "# Suponemos que se pasa un dataset de [N,(28*28)] imágenes en escala de grises\n",
    "def calc_glcm2 (dataset):\n",
    "    measures = np.zeros([len(dataset),2])\n",
    "    # Calulamos todas las medidas para cada imagen.\n",
    "    glcm_hists = np.zeros([len(dataset),16*16])\n",
    "    for i in range(len(measures)):\n",
    "        image = my_X_train[i].reshape(28,28).copy()\n",
    "        image = np.floor(image/16)\n",
    "        image = image.astype(np.uint8)\n",
    "        glcm = greycomatrix(image,distances=[1],angles=[0],levels=16,symmetric=True,normed=True)\n",
    "        glcm_hists[i,:] = glcm.flatten()\n",
    "        measures[i,:] = glcm_props(glcm).flatten()\n",
    "    return glcm_hists, measures\n"
   ]
  },
  {
   "cell_type": "code",
   "execution_count": 36,
   "metadata": {},
   "outputs": [],
   "source": [
    "glcm_hist_train , measures_train = calc_glcm(my_X_train)\n",
    "glcm_hist_test , measures_test = calc_glcm(my_X_test)"
   ]
  },
  {
   "cell_type": "code",
   "execution_count": 42,
   "metadata": {},
   "outputs": [],
   "source": [
    "def hist_chisquare (H1, H2):\n",
    "    return np.sum((H1-H2)**2/(H1+1e-16))\n"
   ]
  },
  {
   "cell_type": "code",
   "execution_count": 26,
   "metadata": {},
   "outputs": [
    {
     "data": {
      "text/plain": [
       "array([0, 0, 5, 5, 5, 0, 5, 8, 1, 0, 5, 8, 1, 5, 1, 8, 8, 8, 5, 0, 5, 1,\n",
       "       0, 0, 1, 0, 0, 1, 8, 8, 1, 8, 5, 8, 5, 0, 0, 5, 8, 5, 1, 1, 0, 8,\n",
       "       0, 1, 8, 8, 1, 5, 8, 1, 5, 1, 1, 1, 5, 5, 5, 8, 0, 1, 5, 1, 1, 5,\n",
       "       0, 1, 1, 8, 0, 8, 5, 1, 0, 1, 1, 0, 8, 8, 8, 5, 5, 1, 8, 0, 8, 1,\n",
       "       1, 5, 0, 0, 1, 0, 1, 8, 0, 5, 0, 0, 0, 1, 1, 1, 0, 1, 8, 5, 8, 1,\n",
       "       1, 1, 8, 0, 8, 8, 8, 8, 8, 8, 1, 5, 5, 5, 5, 1, 0, 0, 8, 1, 5, 1,\n",
       "       1, 8, 5, 1, 8, 5, 8, 5, 8, 1, 5, 1, 1, 1, 1, 8, 0, 5, 1, 5, 5, 0,\n",
       "       1, 8, 5, 8, 8, 8, 8, 1, 0, 8, 0, 0, 8, 1, 5, 5, 1, 5, 1, 5, 0, 8,\n",
       "       0, 0, 5, 1, 1, 0, 0, 0, 1, 1, 8, 5, 5, 0, 0, 5, 5, 8, 1, 0, 8, 5,\n",
       "       5, 8, 0, 5, 8, 1, 5, 8, 5, 1, 0, 5, 0, 0, 0, 5, 5, 8, 0, 8, 5, 5,\n",
       "       5, 1, 8, 1, 0, 1, 1, 0, 0, 8, 0, 1, 0, 8, 8, 5, 5, 8, 5, 5, 5, 5,\n",
       "       8, 5, 8, 8, 8, 5, 5, 1, 0, 5, 1, 8, 5, 1, 0, 0, 0, 0, 5, 0, 5, 0,\n",
       "       8, 0, 8, 5, 5, 0, 8, 0, 5, 1, 8, 8, 1, 8, 8, 8, 5, 0, 0, 1, 1, 8,\n",
       "       1, 1, 0, 0, 8, 5, 5, 0, 8, 1, 5, 1, 5, 8, 5, 8, 1, 1, 1, 8, 0, 8,\n",
       "       0, 8, 5, 1, 8, 0, 1, 0, 1, 5, 8, 1], dtype=uint8)"
      ]
     },
     "execution_count": 26,
     "metadata": {},
     "output_type": "execute_result"
    }
   ],
   "source": [
    "my_y_train"
   ]
  },
  {
   "cell_type": "code",
   "execution_count": 27,
   "metadata": {},
   "outputs": [
    {
     "data": {
      "text/plain": [
       "<matplotlib.image.AxesImage at 0x252abcfc0f0>"
      ]
     },
     "execution_count": 27,
     "metadata": {},
     "output_type": "execute_result"
    },
    {
     "data": {
      "image/png": "[encoded data removed]",
      "text/plain": [
       "<Figure size 720x360 with 1 Axes>"
      ]
     },
     "metadata": {
      "needs_background": "light"
     },
     "output_type": "display_data"
    }
   ],
   "source": [
    "plt.imshow(my_X_train[2].reshape(28,28), cmap='gray')"
   ]
  },
  {
   "cell_type": "code",
   "execution_count": 43,
   "metadata": {},
   "outputs": [
    {
     "name": "stdout",
     "output_type": "stream",
     "text": [
      "0.2625\n"
     ]
    },
    {
     "data": {
      "text/plain": [
       "array([[ 6, 14,  9,  8],\n",
       "       [14, 10, 10,  9],\n",
       "       [ 9,  8, 11,  7],\n",
       "       [12,  7, 11, 15]], dtype=int64)"
      ]
     },
     "execution_count": 43,
     "metadata": {},
     "output_type": "execute_result"
    }
   ],
   "source": [
    "neigh_glcm = KNeighborsClassifier(n_neighbors=5, metric=hist_chisquare)\n",
    "neigh_glcm.fit(glcm_hist_train, my_y_train)\n",
    "\n",
    "y_pred_glcm = neigh_glcm.predict(glcm_hist_test)\n",
    "print(accuracy_score(my_y_test, y_pred_glcm))\n",
    "confusion_matrix(my_y_test, y_pred_glcm)"
   ]
  },
  {
   "cell_type": "code",
   "execution_count": 39,
   "metadata": {},
   "outputs": [
    {
     "name": "stdout",
     "output_type": "stream",
     "text": [
      "0.2625\n"
     ]
    },
    {
     "data": {
      "text/plain": [
       "array([[ 6, 14,  9,  8],\n",
       "       [14, 10, 10,  9],\n",
       "       [ 9,  8, 11,  7],\n",
       "       [12,  7, 11, 15]], dtype=int64)"
      ]
     },
     "execution_count": 39,
     "metadata": {},
     "output_type": "execute_result"
    }
   ],
   "source": [
    "neigh_glcm = KNeighborsClassifier(n_neighbors=5, metric = 'euclidean')\n",
    "neigh_glcm.fit(glcm_hist_train, my_y_train)\n",
    "y_pred_glcm = neigh_glcm.predict(glcm_hist_test)\n",
    "print(accuracy_score(my_y_test, y_pred_glcm))\n",
    "confusion_matrix(my_y_test, y_pred_glcm)"
   ]
  },
  {
   "cell_type": "code",
   "execution_count": 187,
   "metadata": {
    "scrolled": true
   },
   "outputs": [],
   "source": [
    "glcm_hist_train , measures_train = calc_glcm2(my_X_train)\n",
    "glcm_hist_test , measures_test = calc_glcm2(my_X_test)"
   ]
  },
  {
   "cell_type": "code",
   "execution_count": 192,
   "metadata": {},
   "outputs": [
    {
     "name": "stdout",
     "output_type": "stream",
     "text": [
      "0.225\n"
     ]
    },
    {
     "data": {
      "text/plain": [
       "array([[4, 5, 6, 3],\n",
       "       [5, 5, 3, 5],\n",
       "       [7, 3, 3, 5],\n",
       "       [9, 6, 5, 6]], dtype=int64)"
      ]
     },
     "execution_count": 192,
     "metadata": {},
     "output_type": "execute_result"
    }
   ],
   "source": [
    "neigh_glcm = KNeighborsClassifier(n_neighbors=5)\n",
    "neigh_glcm.fit(glcm_hist_train, my_y_train)\n",
    "y_pred_glcm = neigh_glcm.predict(glcm_hist_test)\n",
    "print(accuracy_score(my_y_test, y_pred_glcm))\n",
    "confusion_matrix(my_y_test, y_pred_glcm)"
   ]
  },
  {
   "cell_type": "code",
   "execution_count": 41,
   "metadata": {
    "scrolled": true
   },
   "outputs": [
    {
     "name": "stdout",
     "output_type": "stream",
     "text": [
      "0.25\n"
     ]
    },
    {
     "data": {
      "text/plain": [
       "array([[12, 14,  6,  5],\n",
       "       [19, 11,  9,  4],\n",
       "       [17,  8,  9,  1],\n",
       "       [12, 10, 15,  8]], dtype=int64)"
      ]
     },
     "execution_count": 41,
     "metadata": {},
     "output_type": "execute_result"
    }
   ],
   "source": [
    "neigh_measures = KNeighborsClassifier(n_neighbors=5, metric = 'euclidean')\n",
    "neigh_measures.fit(measures_train, my_y_train)\n",
    "\n",
    "y_pred_measures = neigh_measures.predict(measures_test)\n",
    "\n",
    "print(accuracy_score(my_y_test, y_pred_measures))\n",
    "confusion_matrix(my_y_test, y_pred_measures)"
   ]
  },
  {
   "cell_type": "code",
   "execution_count": 30,
   "metadata": {},
   "outputs": [],
   "source": [
    "# Parámetros para ajustar el descriptor HOG\n",
    "winSize = (28,28) # Tamaño de nuestra imagen directamente porque queremos un descriptor para toda la imagen\n",
    "blockSize = (14,14) # \n",
    "blockStride = (7,7)\n",
    "cellSize = (14,14)\n",
    "nbins = 9\n",
    "derivAperture = 1 # No cambiar\n",
    "winSigma = -1. # No cambiar\n",
    "histogramNormType = 0 # No cambiar\n",
    "L2HysThreshold = 0.2 # No cambiar\n",
    "gammaCorrection = 1 # No cambiar\n",
    "nlevels = 64 # No cambiar\n",
    "useSignedGradients = True\n",
    "\n",
    "# Descriptor HOG con los parámetros anteriores\n",
    "hog = cv2.HOGDescriptor(winSize,blockSize,blockStride,cellSize,nbins,derivAperture,winSigma,histogramNormType,L2HysThreshold,gammaCorrection,nlevels, useSignedGradients)\n",
    "\n",
    "# Suponemos que se pasa un dataset de [N,(28*28)] imágenes en escala de grises\n",
    "def calc_hog (dataset):\n",
    "    hog_descriptors = np.zeros([len(dataset),81])\n",
    "    for i in range(len(dataset)):\n",
    "        hog_descriptors[i,:] = hog.compute(dataset[i].reshape(28,28)).flatten()\n",
    "    return hog_descriptors   "
   ]
  },
  {
   "cell_type": "code",
   "execution_count": 31,
   "metadata": {},
   "outputs": [],
   "source": [
    "hog_descriptors_train = calc_hog(my_X_train)\n",
    "hog_descriptors_test =calc_hog(my_X_test)"
   ]
  },
  {
   "cell_type": "code",
   "execution_count": 32,
   "metadata": {},
   "outputs": [
    {
     "name": "stdout",
     "output_type": "stream",
     "text": [
      "0.975\n"
     ]
    },
    {
     "data": {
      "text/plain": [
       "array([[25,  1,  0,  0],\n",
       "       [ 0, 18,  0,  0],\n",
       "       [ 0,  0, 18,  0],\n",
       "       [ 0,  0,  1, 17]], dtype=int64)"
      ]
     },
     "execution_count": 32,
     "metadata": {},
     "output_type": "execute_result"
    }
   ],
   "source": [
    "neigh_hog = KNeighborsClassifier(n_neighbors=3)\n",
    "neigh_hog.fit(hog_descriptors_train, my_y_train)\n",
    "y_pred_hog = neigh_hog.predict(hog_descriptors_test)\n",
    "print(accuracy_score(my_y_test, y_pred_hog))\n",
    "confusion_matrix(my_y_test, y_pred_hog)"
   ]
  },
  {
   "cell_type": "code",
   "execution_count": null,
   "metadata": {},
   "outputs": [],
   "source": []
  }
 ],
 "metadata": {
  "kernelspec": {
   "display_name": "VPC Py38",
   "language": "python",
   "name": "visio_per_computador"
  },
  "language_info": {
   "codemirror_mode": {
    "name": "ipython",
    "version": 3
   },
   "file_extension": ".py",
   "mimetype": "text/x-python",
   "name": "python",
   "nbconvert_exporter": "python",
   "pygments_lexer": "ipython3",
   "version": "3.6.12"
  }
 },
 "nbformat": 4,
 "nbformat_minor": 1
}