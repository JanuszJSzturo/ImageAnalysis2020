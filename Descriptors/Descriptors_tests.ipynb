{
 "cells": [
  {
   "cell_type": "code",
   "execution_count": 207,
   "metadata": {},
   "outputs": [],
   "source": [
    "import numpy as np\n",
    "import matplotlib.pyplot as plt\n",
    "from utils import mnist_reader\n",
    "from skimage.feature import greycomatrix, greycoprops\n",
    "from skimage import data\n",
    "import pandas as pd\n",
    "from sklearn.model_selection import train_test_split\n",
    "plt.rcParams[\"figure.figsize\"] = (10,5)"
   ]
  },
  {
   "cell_type": "code",
   "execution_count": 32,
   "metadata": {},
   "outputs": [],
   "source": [
    "test_img = np.array([[0,0,1,1],[0,0,1,1],[0,2,2,2],[2,2,3,3]])"
   ]
  },
  {
   "cell_type": "code",
   "execution_count": 33,
   "metadata": {
    "scrolled": true
   },
   "outputs": [
    {
     "data": {
      "text/plain": [
       "array([[0, 0, 1, 1],\n",
       "       [0, 0, 1, 1],\n",
       "       [0, 2, 2, 2],\n",
       "       [2, 2, 3, 3]])"
      ]
     },
     "execution_count": 33,
     "metadata": {},
     "output_type": "execute_result"
    }
   ],
   "source": [
    "test_img"
   ]
  },
  {
   "cell_type": "code",
   "execution_count": 34,
   "metadata": {
    "scrolled": false
   },
   "outputs": [
    {
     "data": {
      "text/plain": [
       "<matplotlib.image.AxesImage at 0x2910fb1f748>"
      ]
     },
     "execution_count": 34,
     "metadata": {},
     "output_type": "execute_result"
    },
    {
     "data": {
      "image/png": "[encoded data removed]",
      "text/plain": [
       "<Figure size 720x360 with 1 Axes>"
      ]
     },
     "metadata": {
      "needs_background": "light"
     },
     "output_type": "display_data"
    }
   ],
   "source": [
    "plt.imshow(test_img,cmap='gray')"
   ]
  },
  {
   "cell_type": "code",
   "execution_count": 35,
   "metadata": {},
   "outputs": [],
   "source": [
    "glcm = greycomatrix(test_img,[1],[np.pi/2],4,symmetric=True,normed=True)"
   ]
  },
  {
   "cell_type": "code",
   "execution_count": 36,
   "metadata": {
    "scrolled": true
   },
   "outputs": [
    {
     "name": "stdout",
     "output_type": "stream",
     "text": [
      "[0.25       0.         0.08333333 0.         0.         0.16666667\n",
      " 0.08333333 0.         0.08333333 0.08333333 0.08333333 0.08333333\n",
      " 0.         0.         0.08333333 0.        ]\n"
     ]
    }
   ],
   "source": [
    "print(glcm.ravel())"
   ]
  },
  {
   "cell_type": "markdown",
   "metadata": {},
   "source": [
    "## GLDV"
   ]
  },
  {
   "cell_type": "code",
   "execution_count": 37,
   "metadata": {},
   "outputs": [],
   "source": [
    "#GLDV (Grey-level difference vector)\n",
    "def gldv(glcm):\n",
    "    gldv = np.zeros(len(glcm))\n",
    "    for i in range(len(glcm)):\n",
    "        if(i>0):\n",
    "            gldv[i]=np.trace(glcm, offset=i)*2\n",
    "        else:\n",
    "            gldv[i]=np.trace(glcm, offset=i)\n",
    "            \n",
    "    return gldv"
   ]
  },
  {
   "cell_type": "code",
   "execution_count": 38,
   "metadata": {},
   "outputs": [],
   "source": [
    "a = gldv(glcm)"
   ]
  },
  {
   "cell_type": "code",
   "execution_count": 39,
   "metadata": {
    "scrolled": true
   },
   "outputs": [
    {
     "data": {
      "text/plain": [
       "array([0.5       , 0.33333333, 0.16666667, 0.        ])"
      ]
     },
     "execution_count": 39,
     "metadata": {},
     "output_type": "execute_result"
    }
   ],
   "source": [
    "a"
   ]
  },
  {
   "cell_type": "markdown",
   "metadata": {},
   "source": [
    "## GLCM  Measures"
   ]
  },
  {
   "cell_type": "markdown",
   "metadata": {},
   "source": [
    "GLCM proerties from skiimage  \n",
    "greycoprops(GLCM, prop='measure')  \n",
    "measure   \n",
    "‘contrast’: $\\sum_{i,j=0}^{levels-1} P_{i,j}(i-j)^2$  \n",
    "‘dissimilarity’: $\\sum_{i,j=0}^{levels-1} P_{i,j}|i-j|$  \n",
    "‘homogeneity’ : $\\sum_{i,j=0}^{levels-1} \\frac{P_{i,j}}{1+(i-j)^2}$  \n",
    "‘ASM’$\\sum_{i,j=0}^{levels-1} P^2_{i,j}$   \n",
    "‘energy’ $\\sqrt{ASM}$  \n",
    "‘correlation’  $\\sum_{i,j=0}^{levels-1} P_{i,j}\\frac{(i-\\mu_i)(j-\\mu_j)}{\\sqrt{\\sigma_i^2\\sigma_j^2}}$"
   ]
  },
  {
   "cell_type": "code",
   "execution_count": 40,
   "metadata": {},
   "outputs": [],
   "source": [
    "def glcm_props (glcm):\n",
    "    contrast = greycoprops(glcm,'contrast')\n",
    "    dissimilarity = greycoprops(glcm,'dissimilarity')\n",
    "    homogeneity = greycoprops(glcm,'homogeneity')\n",
    "    ASM = greycoprops(glcm,'ASM')\n",
    "    energy = greycoprops(glcm,'energy')\n",
    "    correlation = greycoprops(glcm,'correlation')\n",
    "    return np.array([contrast, dissimilarity, homogeneity, ASM, energy, correlation])"
   ]
  },
  {
   "cell_type": "markdown",
   "metadata": {},
   "source": [
    "## Load Zalando fashion data"
   ]
  },
  {
   "cell_type": "code",
   "execution_count": 224,
   "metadata": {},
   "outputs": [],
   "source": [
    "X_train, y_train = mnist_reader.load_mnist('data/fashion', kind='train')\n",
    "X_test, y_test = mnist_reader.load_mnist('data/fashion', kind='t10k')"
   ]
  },
  {
   "cell_type": "code",
   "execution_count": 225,
   "metadata": {},
   "outputs": [],
   "source": [
    "X_dataset = np.concatenate((X_train,X_test))\n",
    "Y_dataset = np.concatenate((y_train,y_test))"
   ]
  },
  {
   "cell_type": "markdown",
   "metadata": {},
   "source": [
    "## Make own dataset (smaller)"
   ]
  },
  {
   "cell_type": "markdown",
   "metadata": {},
   "source": [
    "De todo el conjunto queremos sacar 100 elementos de 4 clases para obtener los descriptores y clasificar."
   ]
  },
  {
   "cell_type": "code",
   "execution_count": 275,
   "metadata": {},
   "outputs": [],
   "source": [
    "# Especificamos cuántos elementos de cada clase queremos coger, máximo de 7000 ya que el conjunto de\n",
    "# Zalando tiene 6000+1000 en train+test para cada clase\n",
    "elements = 100\n",
    "# Especificamos qué clases queremos coger entre 0 y 9 incluidos.\n",
    "labels = np.array([0,1,2,3])\n",
    "\n",
    "#Creamos nuestro propio dataset reducido\n",
    "my_X_dataset = np.zeros((elements*len(labels),28*28))\n",
    "my_Y_dataset = np.zeros(elements*len(labels))\n",
    "for i in range(len(labels)):\n",
    "    ind = (Y_dataset==labels[i])\n",
    "    my_X_dataset[i*elements:elements*(i+1),] = X_dataset[ind][0:elements]\n",
    "    my_Y_dataset[i*elements:elements*(i+1)] = Y_dataset[ind][0:elements]\n",
    "\n",
    "my_X_dataset = my_X_dataset.astype(np.uint8)\n",
    "my_Y_dataset = my_Y_dataset.astype(np.uint8)"
   ]
  },
  {
   "cell_type": "code",
   "execution_count": 276,
   "metadata": {},
   "outputs": [],
   "source": [
    "# Dividimos nuestro dataset en train y test mediante el uso de train_test_split de scikit-learn\n",
    "my_X_train, my_X_test, my_y_train, my_y_test = train_test_split(my_X_dataset, my_Y_dataset, test_size=0.2, random_state=42)"
   ]
  },
  {
   "cell_type": "code",
   "execution_count": 277,
   "metadata": {},
   "outputs": [
    {
     "name": "stdout",
     "output_type": "stream",
     "text": [
      "[0 1 2 3]\n",
      "[74 82 82 82]\n"
     ]
    }
   ],
   "source": [
    "# Revisamos la distribución que ha hecho scikit de los datos\n",
    "u, counts = np.unique(my_y_train, return_counts=True)\n",
    "print(u)\n",
    "print(counts)"
   ]
  },
  {
   "cell_type": "code",
   "execution_count": 283,
   "metadata": {},
   "outputs": [],
   "source": [
    "measures = np.zeros([len(my_X_train),6])\n",
    "#We get all the measures for each image. We calculate the glcm for all the image and get the properties for everyone\n",
    "glcm_hists = np.zeros([len(my_X_train),256*256])\n",
    "for i in range(len(measures)):\n",
    "    image = my_X_train[i].reshape(28,28).copy()\n",
    "    glcm = greycomatrix(image,distances=[1],angles=[0],levels=256,symmetric=True,normed=True)\n",
    "    glcm_hists[i,:] = glcm.flatten()\n",
    "    measures[i,:] = glcm_props(glcm).flatten()\n",
    "    "
   ]
  },
  {
   "cell_type": "code",
   "execution_count": 279,
   "metadata": {},
   "outputs": [
    {
     "data": {
      "text/plain": [
       "array([[1.93776984e+03, 2.12486772e+01, 3.52261540e-01, 8.84519960e-02,\n",
       "        2.97408803e-01, 8.64858933e-01],\n",
       "       [2.14828571e+03, 2.34920635e+01, 3.07014148e-01, 4.37094076e-02,\n",
       "        2.09067950e-01, 8.71125033e-01],\n",
       "       [3.92081481e+03, 3.39576720e+01, 2.77618977e-01, 4.68649394e-02,\n",
       "        2.16483116e-01, 8.11981267e-01],\n",
       "       ...,\n",
       "       [2.42099206e+03, 2.73148148e+01, 3.49755020e-01, 9.73639456e-02,\n",
       "        3.12031962e-01, 5.52753821e-01],\n",
       "       [2.55158466e+03, 2.03280423e+01, 6.22800456e-01, 3.72132289e-01,\n",
       "        6.10026466e-01, 8.61376626e-01],\n",
       "       [5.14775132e+03, 3.23227513e+01, 6.26415126e-01, 3.67354812e-01,\n",
       "        6.06098022e-01, 7.44168287e-01]])"
      ]
     },
     "execution_count": 279,
     "metadata": {},
     "output_type": "execute_result"
    }
   ],
   "source": [
    "measures"
   ]
  },
  {
   "cell_type": "code",
   "execution_count": 27,
   "metadata": {},
   "outputs": [],
   "source": [
    "y_labels = ['0:T-shirt/top','1:Trouser','2:Pullover','3:Dress','4:Coat','5:Sandal','6:Shirt','7:Sneaker','8:Bag','9:Ankle boot']"
   ]
  },
  {
   "cell_type": "code",
   "execution_count": 281,
   "metadata": {},
   "outputs": [
    {
     "data": {
      "text/plain": [
       "<function matplotlib.pyplot.show(close=None, block=None)>"
      ]
     },
     "execution_count": 281,
     "metadata": {},
     "output_type": "execute_result"
    },
    {
     "data": {
      "image/png": "[encoded data removed]",
      "text/plain": [
       "<Figure size 720x360 with 1 Axes>"
      ]
     },
     "metadata": {
      "needs_background": "light"
     },
     "output_type": "display_data"
    }
   ],
   "source": [
    "plt.scatter(measures[0:,1],measures[0:,5],c=my_y_train)\n",
    "plt.show"
   ]
  },
  {
   "cell_type": "code",
   "execution_count": 405,
   "metadata": {},
   "outputs": [
    {
     "data": {
      "text/plain": [
       "['T-shirt/top',\n",
       " 'Trouser',\n",
       " 'Pullover',\n",
       " 'Dress',\n",
       " 'Coat',\n",
       " 'Sandal',\n",
       " 'Shirt',\n",
       " 'Sneaker',\n",
       " 'Bag',\n",
       " 'Ankle boot']"
      ]
     },
     "execution_count": 405,
     "metadata": {},
     "output_type": "execute_result"
    }
   ],
   "source": [
    "y_labels"
   ]
  },
  {
   "cell_type": "code",
   "execution_count": null,
   "metadata": {},
   "outputs": [],
   "source": []
  }
 ],
 "metadata": {
  "kernelspec": {
   "display_name": "VPC Py38",
   "language": "python",
   "name": "visio_per_computador"
  },
  "language_info": {
   "codemirror_mode": {
    "name": "ipython",
    "version": 3
   },
   "file_extension": ".py",
   "mimetype": "text/x-python",
   "name": "python",
   "nbconvert_exporter": "python",
   "pygments_lexer": "ipython3",
   "version": "3.6.12"
  }
 },
 "nbformat": 4,
 "nbformat_minor": 1
}
