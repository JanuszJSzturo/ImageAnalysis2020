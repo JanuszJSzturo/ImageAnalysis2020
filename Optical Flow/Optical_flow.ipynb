{
 "cells": [
  {
   "cell_type": "markdown",
   "metadata": {},
   "source": [
    "# Optical flow\n",
    "\n",
    "\n",
    "En esta práctica usaremos los conjuntos de datos de un *challenge* llamado [Changedetection.net](http://changedetection.net/). Este concurso está dedicado a la tarea del *background subtraction* aunque sus secuencias nos servirán para hacer pruebas con el flujo óptico.\n",
    "\n",
    "Tenemos 2 conjuntos de datos, uno del año 2012 y otro del año 2014, nosotros trabajaremos con el primero. Recomiendo descargar secuencias que pertenecen al la categoría *Baseline* ya que presentan una menor dificultad. En concreto yo he hecho una prueba usando la secuencia **PETS2006**, pero recomiendo usar la *Highway*.\n",
    "\n",
    "Lo que se pide en esta primera práctica es adaptar el código que se puede encontrar en la página web de la documentación de *OpenCV* para que funcione con aquella secuencia.\n",
    "\n",
    "**Tareas**\n",
    "\n",
    "1. **Tarea inicial**\n",
    "\n",
    "     1. Descargar una secuencia de la categoría *Baseline*\n",
    "     2. Adaptar el código de ejemplo de [OpenCV](https://docs.opencv.org/3.4/d4/dee/tutorial_optical_flow.html)\n",
    "     3. Guardar el resultado en una carpeta llamada *output*\n",
    "     4. Hacer un documento analizando los resultados obtenidos: ¿Qué tareas podríamos resolver aplicando flujo óptico *sparse*? ¿Qué problemas tendríamos a la hora de realizar una implementación real?\n",
    "\n",
    "2. **Segunda tarea**: En este caso lo que pido es que adaptéis el código anterior para mostrar el flujo óptico en un conjunto de puntos constantes de la imagen, de manera similar a como lo hace nuestro amigo del siguiente [enlace](https://www.youtube.com/watch?v=MJHUKiQCxvc). Debéis probar la misma secuencia anterior y otra de alguna de las otras categorías.\n",
    "\n",
    "3. **Tercera tarea**: Competimos con **Eye toy**. Realizar una aplicación que permita a un humano interactuar con elementos de la pantalla mediante flujo óptico."
   ]
  }
 ],
 "metadata": {
  "kernelspec": {
   "display_name": "Python 3",
   "language": "python",
   "name": "python3"
  },
  "language_info": {
   "codemirror_mode": {
    "name": "ipython",
    "version": 3
   },
   "file_extension": ".py",
   "mimetype": "text/x-python",
   "name": "python",
   "nbconvert_exporter": "python",
   "pygments_lexer": "ipython3",
   "version": "3.6.12"
  }
 },
 "nbformat": 4,
 "nbformat_minor": 2
}
