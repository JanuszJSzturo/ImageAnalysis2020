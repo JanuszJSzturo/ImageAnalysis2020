{
 "cells": [
  {
   "cell_type": "markdown",
   "metadata": {},
   "source": [
    "# Práctica Background Subtraction\n",
    "\n",
    "En esta segunda práctica del bloque de análisis de secuencias haremos trabajo con 3 técnicas de background subtraction.\n",
    "\n",
    "En primer lugar debéis implementar vuestro propio método de eliminación de fondo basado en la idea que explicamos del filtro exponencial. Podéis hacer las adaptaciones que encontréis necesario a la idea general del método para mejorar su rendimiento.\n",
    "\n",
    "En segundo lugar debéis de usar las implementaciones del MOG y del MOG2 que se encuentran en la librería\n",
    " [OpenCV](https://opencv-python-tutroals.readthedocs.io/en/latest/py_tutorials/py_video/py_bg_subtraction/py_bg_subtraction.html).\n",
    "\n",
    "En tercer lugar lo que quiero es que hagáis una comparativa entre su método y los dos basados en Mixture de gausiano utilizando el dataset de la competición [changedetection.net](http://changedetection.net/) del año 2012.\n",
    "\n",
    "En concreto debe usar una secuencia de cada categoría exceptuando la de *Thermal*.\n",
    "\n",
    "Las métricas que a usar para cada secuencia son:\n",
    "\n",
    "* **TP** : True Positive\n",
    "* **FP** : False Positive\n",
    "* **FN** : False Negative\n",
    "* **TN** : True Negative\n",
    "* **Re (Recall)** : TP / (TP + FN)\n",
    "* **F-Measure** : (2 * Precision * Recall) / (Precision + Recall)\n",
    "* **Precision** : TP / (TP + FP)\n",
    "\n",
    "Finalmente se pide que hagáis un análisis de los resultados obtenidos por cada secuencia: problemas, carencias, puntos fuertes de los algoritmos ...\n",
    "\n",
    "**Entrega:**\n",
    "\n",
    "* Explicación del algoritmo implementado y código fuente.\n",
    "* Resultados de las secuencias en formato imagen o video.\n",
    "* Resultados de las secuencias en formato tabla resumen de las métricas.\n",
    "* Análisis de los resultados"
   ]
  },
  {
   "cell_type": "markdown",
   "metadata": {},
   "source": [
    "Secuencias a usar:\n",
    "- baseline: todo\n",
    "- cameraJitter: badminton, traffic\n",
    "- dynamicBackground: canoe, fall, fountain02\n",
    "- intermittentObjectMotion: sofa, \n",
    "- shadow: busStation, copyMachine, cubicle, peopleInShade"
   ]
  },
  {
   "cell_type": "markdown",
   "metadata": {},
   "source": [
    "### Métricas"
   ]
  },
  {
   "cell_type": "code",
   "execution_count": 1,
   "metadata": {},
   "outputs": [],
   "source": [
    "def recall(tp, fn):\n",
    "    return (tp/(tp+fn))\n",
    "\n",
    "def precision(tp, fp):\n",
    "    return (tp/(tp+fp))\n",
    "\n",
    "def f_measure(precision, recall):\n",
    "    return ((2*precision*recall)/(precision+recall))\n",
    "\n",
    "\n",
    "def all_metrics (resultPath, groundtruthPath, start_frame, end_frame):\n",
    "    # Cargamos el resultado del filtro indicado\n",
    "    result = loadImages(resultPath)\n",
    "    groundTruth = loadImages(groundtruthPath)\n",
    "    \n",
    "    # ground truth empieza en start_frame, los frames están numerados de 1 hasta n, pero el array de frames va de 0 a n-1\n",
    "    total_frames = end_frame-start_frame\n",
    "\n",
    "    # Inicializamos un array para cada métrica donde se el resultado para cada frame\n",
    "    tp =  np.zeros(total_frames)\n",
    "    fp =  np.zeros(total_frames)\n",
    "    fn =  np.zeros(total_frames)\n",
    "    tn =  np.zeros(total_frames)\n",
    "\n",
    "    # Calculamos las métricas True Positive, False Positive, False Negative, True Negative para cada frame\n",
    "    for i in range(total_frames):\n",
    "        tp[i], fp[i], fn[i], tn[i] = comparator(result[i+start_frame], groundTruth[i+start_frame])\n",
    "\n",
    "    # Calculamos las métricas Recall, Precision y F-measure para cada frame    \n",
    "    recall_frame = recall(tp=tp, fn=fn)\n",
    "    precision_frame = precision(tp=tp, fp=fp)\n",
    "    fMeasure_frame = f_measure(precision=precision_frame, recall=recall_frame)\n",
    "\n",
    "    # Calculamos las métricas anteriores para toda la secuencia en conjunto\n",
    "    tp_secuencia = tp.sum()\n",
    "    fp_secuencia = fp.sum()\n",
    "    fn_secuencia = fn.sum()\n",
    "    tn_secuencia = tn.sum()\n",
    "\n",
    "    recall_secuencia = recall(tp=tp_secuencia, fn=fn_secuencia)\n",
    "    precision_secuencia = precision(tp=tp_secuencia, fp=fp_secuencia)\n",
    "    fMeasure_secuencia = f_measure(precision=precision_secuencia, recall=recall_secuencia)\n",
    "    \n",
    "    cm_frames = np.array([tp,fp,fn,tn])\n",
    "    cm_secuencia = np.array ([tp_secuencia, fp_secuencia, fn_secuencia, tn_secuencia])\n",
    "    \n",
    "    r_p_fm_frames = np.array([recall_frame, precision_frame, fMeasure_frame])\n",
    "    r_p_fm_secuencia = np.array([recall_secuencia, precision_secuencia, fMeasure_secuencia])\n",
    "    \n",
    "    return cm_frames, cm_secuencia, r_p_fm_frames, r_p_fm_secuencia"
   ]
  },
  {
   "cell_type": "markdown",
   "metadata": {},
   "source": [
    "### Filtro exponencial para _background subtraction_\n",
    "Parte de la idea de eliminación de fondo más básica: restar el fotograman **_fondo_** (_background_) del fotograma actual para obtener el **_primer plano_** (_foreground_).  \n",
    "El primer problema o tarea para realizar este algoritmo es conseguir ese fotograma **_fondo_**. Para ello se necesita una imagen que represente el fondo sin ningún otro objeto, pero esto no siempre es posible, por lo tanto hay que buscar otras soluciones. Una de ellas es estimar el fondo como la media o la mediana a partir de los primeros _n_ fotogramas.  \n",
    "El segundo problema que surge es que el fondo en los casos prácticos varía con el tiempo y por lo tanto es posible que ese fotograma _fondo_ que hemos estimado no nos sirve más tarde. Por lo tanto la mejora que se propone es estimar el fondo recursivamente respecto el fotograma anterior siguiendo la siguiente fórmula: \n",
    "$$\n",
    "\\begin{align}\n",
    "B_t=(1-{\\alpha})B_{t-1}+{\\alpha}I_t\n",
    "\\end{align}\n",
    "$$\n",
    "Donde $B_t$ es la estimación del fondo para el fotograma actual, $B_{t-1}$ es el fondo para el fotograma anterior, $I_t$ es el fotograma actual y $\\alpha$ es el factor de aprendizaje que indica cuánto del fotograma actual se considerará fondo para el siguiente fotograma."
   ]
  },
  {
   "cell_type": "code",
   "execution_count": 2,
   "metadata": {},
   "outputs": [],
   "source": [
    "from utils import *\n",
    "import numpy as np\n",
    "from tqdm.notebook import tqdm\n",
    "import matplotlib.pyplot as plt"
   ]
  },
  {
   "cell_type": "markdown",
   "metadata": {},
   "source": [
    "Para mantener la limpieza del _notebook_ se han definidos las funciones para realizar el análisis dentro del archivo _utils.py_.  \n",
    "Las funciones que se encuentran son las siguientes:\n",
    "- **comparator**: compara un _frame_ resultante de un modelo de _background subtraction_ con el resultado esperado (_groundtruth_)\n",
    "- **loadImages**: devuelve una lista con las imágenes dentro de la carpeta especificada\n",
    "- **exponentialFilter**: implementación del algoritmo basado en filtro exponencial\n",
    "- **MOG**: implementación del algoritmo MOG disponible [aquí](https://opencv-python-tutroals.readthedocs.io/en/latest/py_tutorials/py_video/py_bg_subtraction/py_bg_subtraction.html)\n",
    "- **MOG2**: implementación del algoritmo MOG2 disponible [aquí](https://opencv-python-tutroals.readthedocs.io/en/latest/py_tutorials/py_video/py_bg_subtraction/py_bg_subtraction.html)\n",
    "- **im2vid**: genera video a partir de las imágenes ubicadas en una carpeta\n",
    "- **showVideo**: muestra el video en una ventana flotante para visualizar mejor el resultado del modelo\n",
    "\n",
    "Notar que, a pesar de tratarse de algoritmos que trabajan con video, el _dataset_ que se proporciona para realizar las pruebas son imágenes que representan los fotogramas de una secuencia. Por lo tanto, las funciones que se han realizado, se han pensado para trabajar con imágenes en vez de video."
   ]
  },
  {
   "cell_type": "markdown",
   "metadata": {},
   "source": [
    "Pasos a seguir para cada secuencia:\n",
    "1. Cargar las imágenes en una variable (path de las imágenes)\n",
    "2. Aplicar el filtro deseado EF, MOG y MOG2 (path donde se guardarán las imágenes aplicadas por el filtro)\n",
    "3. Obtener las métricas con comparator (hacer bucle a lo largo de las imágenes resultado -> path del groundtruth)\n",
    "4. Mostrar los resultados y videos\n",
    "5. Comparar los resultados (hacer gráfica a lo largo del"
   ]
  },
  {
   "cell_type": "code",
   "execution_count": 3,
   "metadata": {},
   "outputs": [],
   "source": [
    "# dynamicBackground canoe dataset output paths\n",
    "expFilter_canoe_path = 'DATA/dynamicBackground/results/canoe/expFilter/'\n",
    "MOG_canoe_path = 'DATA/dynamicBackground/results/canoe/MOG/'\n",
    "MOG2_canoe_path = 'DATA/dynamicBackground/results/canoe/MOG2'\n",
    "\n",
    "# intermittentObject sofa dataset output paths\n",
    "expFilter_sofa_path = 'DATA/intermittentObjectMotion/results/sofa/expFilter/' \n",
    "MOG_sofa_path = 'DATA/intermittentObjectMotion/results/sofa/MOG'\n",
    "MOG2_sofa_path = 'DATA/intermittentObjectMotion/results/sofa/MOG2'\n",
    "\n",
    "# shadow copyMachine dataset output paths\n",
    "expFilter_copyMachine_path = 'DATA/shadow/results/copyMachine/expFilter/'\n",
    "MOG_copyMachine_path = 'DATA/shadow/results/copyMachine/MOG'\n",
    "MOG2_copyMachine_path = 'DATA/shadow/results/copyMachine/MOG2'"
   ]
  },
  {
   "cell_type": "markdown",
   "metadata": {},
   "source": [
    "# 1. Secuencia _highway_ del dataset _baseline_"
   ]
  },
  {
   "cell_type": "markdown",
   "metadata": {},
   "source": [
    "Cargamos las imágenes de entrada y el ground truth con el que se calcularán las métricas."
   ]
  },
  {
   "cell_type": "code",
   "execution_count": 4,
   "metadata": {},
   "outputs": [
    {
     "name": "stderr",
     "output_type": "stream",
     "text": [
      "Loading images: 100%|████████████████████████████████████████████████████████████| 1700/1700 [00:00<00:00, 2667.40it/s]\n",
      "Loading images: 100%|████████████████████████████████████████████████████████████| 1700/1700 [00:01<00:00, 1208.82it/s]\n"
     ]
    }
   ],
   "source": [
    "# baseline highway dataset groundtruth y input paths\n",
    "gt_highway_path = 'DATA/baseline/baseline/highway/groundtruth/*.png'\n",
    "in_highway_path = 'DATA/baseline/baseline/highway/input/*.jpg'\n",
    "\n",
    "groundTruth = loadImages(gt_highway_path)\n",
    "frames = loadImages(in_highway_path)"
   ]
  },
  {
   "cell_type": "markdown",
   "metadata": {},
   "source": [
    "## 1.1. Algoritmo filtro exponencial"
   ]
  },
  {
   "cell_type": "markdown",
   "metadata": {},
   "source": [
    "Aplicamos el algoritmo basado en el filtro exponencial que hemos implementado."
   ]
  },
  {
   "cell_type": "code",
   "execution_count": 5,
   "metadata": {
    "scrolled": true
   },
   "outputs": [
    {
     "name": "stderr",
     "output_type": "stream",
     "text": [
      "Algorithm application: 100%|█████████████████████████████████████████████████████| 1680/1680 [00:01<00:00, 1032.18it/s]\n"
     ]
    }
   ],
   "source": [
    "# baseline highway dataset output path\n",
    "expFilter_highway_path = 'DATA/baseline/results/highway/expFilter/'\n",
    "\n",
    "exponentialFilter(frames, 0.3, expFilter_highway_path, 20, bgFilter ='MEDIAN')"
   ]
  },
  {
   "cell_type": "markdown",
   "metadata": {},
   "source": [
    "Convertimos la secuencia de imágenes en video para poder visualizar mejor el resultado."
   ]
  },
  {
   "cell_type": "code",
   "execution_count": 6,
   "metadata": {
    "scrolled": false
   },
   "outputs": [],
   "source": [
    "#im2vid(expFilter_highway_path+'*.png','testvid.mp4')"
   ]
  },
  {
   "cell_type": "markdown",
   "metadata": {},
   "source": [
    "Mostramos el video en una ventana flotante."
   ]
  },
  {
   "cell_type": "code",
   "execution_count": 7,
   "metadata": {},
   "outputs": [],
   "source": [
    "#showVideo('testvid.mp4')"
   ]
  },
  {
   "cell_type": "markdown",
   "metadata": {},
   "source": [
    "### 1.1.1. Cálculo de métricas\n",
    "Calculamos las métricas comparando con el _ground truth_ propocionado. Para cada secuencia se proporciona una ROI (Region Of Interest) sobre la cual se realiza el groundtruth, para simplificar el cálculo se han seleccionado aquellas secuencias en las que la ROI sea toda la imagen. Por otro lado, también se especifica el _frame_ de inicio y final sobre los que se ha de realizar la verificación del algoritmo, por lo tanto solo se calcularán las métricas dentro de ese rango.  "
   ]
  },
  {
   "cell_type": "code",
   "execution_count": 8,
   "metadata": {},
   "outputs": [
    {
     "name": "stderr",
     "output_type": "stream",
     "text": [
      "Loading images: 100%|█████████████████████████████████████████████████████████████| 1700/1700 [00:06<00:00, 262.06it/s]\n",
      "Loading images: 100%|████████████████████████████████████████████████████████████| 1700/1700 [00:00<00:00, 2594.43it/s]\n"
     ]
    }
   ],
   "source": [
    "cm_frames_EF,\\\n",
    "cm_secuencia_EF,\\\n",
    "r_p_fm_frames_EF,\\\n",
    "r_p_fm_secuencia_EF = all_metrics (expFilter_highway_path+'*.png', gt_highway_path, start_frame=469, end_frame=1699)"
   ]
  },
  {
   "cell_type": "markdown",
   "metadata": {},
   "source": [
    "## 1.2. Algoritmo MOG"
   ]
  },
  {
   "cell_type": "markdown",
   "metadata": {},
   "source": [
    "Aplicamos el algoritmo MOG (Mixture Of Gaussians)"
   ]
  },
  {
   "cell_type": "code",
   "execution_count": 9,
   "metadata": {},
   "outputs": [
    {
     "name": "stderr",
     "output_type": "stream",
     "text": [
      "Algorithm application2: 100%|█████████████████████████████████████████████████████| 1700/1700 [00:03<00:00, 496.46it/s]\n"
     ]
    }
   ],
   "source": [
    "# baseline highway dataset output path\n",
    "MOG_highway_path = 'DATA/baseline/results/highway/MOG/'\n",
    "\n",
    "MOG(frames,MOG_highway_path)"
   ]
  },
  {
   "cell_type": "code",
   "execution_count": 10,
   "metadata": {},
   "outputs": [],
   "source": [
    "#im2vid(MOG_highway_path+'*.png','testvid.mp4')"
   ]
  },
  {
   "cell_type": "code",
   "execution_count": 11,
   "metadata": {},
   "outputs": [],
   "source": [
    "#showVideo('testvid.mp4')"
   ]
  },
  {
   "cell_type": "markdown",
   "metadata": {},
   "source": [
    "### 1.2.1. Cálculo de métricas"
   ]
  },
  {
   "cell_type": "code",
   "execution_count": 12,
   "metadata": {},
   "outputs": [
    {
     "name": "stderr",
     "output_type": "stream",
     "text": [
      "Loading images: 100%|█████████████████████████████████████████████████████████████| 1700/1700 [00:06<00:00, 275.06it/s]\n",
      "Loading images: 100%|████████████████████████████████████████████████████████████| 1700/1700 [00:00<00:00, 2675.90it/s]\n"
     ]
    }
   ],
   "source": [
    "cm_frames_MOG,\\\n",
    "cm_secuencia_MOG,\\\n",
    "r_p_fm_frames_MOG,\\\n",
    "r_p_fm_secuencia_MOG = all_metrics (MOG_highway_path+'*.png', gt_highway_path, start_frame=469, end_frame=1699)"
   ]
  },
  {
   "cell_type": "markdown",
   "metadata": {},
   "source": [
    "## 1.3. Algoritmo MOG2"
   ]
  },
  {
   "cell_type": "code",
   "execution_count": 13,
   "metadata": {
    "scrolled": true
   },
   "outputs": [
    {
     "name": "stderr",
     "output_type": "stream",
     "text": [
      "Algorithm application: 100%|██████████████████████████████████████████████████████| 1700/1700 [00:03<00:00, 448.95it/s]\n"
     ]
    }
   ],
   "source": [
    "# baseline highway dataset output path\n",
    "MOG2_highway_path = 'DATA/baseline/results/highway/MOG2/'\n",
    "\n",
    "MOG2(frames,MOG2_highway_path)"
   ]
  },
  {
   "cell_type": "markdown",
   "metadata": {},
   "source": [
    "### 1.3.1. Cálculo de métricas"
   ]
  },
  {
   "cell_type": "code",
   "execution_count": 14,
   "metadata": {},
   "outputs": [
    {
     "name": "stderr",
     "output_type": "stream",
     "text": [
      "Loading images: 100%|█████████████████████████████████████████████████████████████| 1700/1700 [00:06<00:00, 276.62it/s]\n",
      "Loading images: 100%|████████████████████████████████████████████████████████████| 1700/1700 [00:00<00:00, 2637.81it/s]\n"
     ]
    }
   ],
   "source": [
    "cm_frames_MOG2,\\\n",
    "cm_secuencia_MOG2,\\\n",
    "r_p_fm_frames_MOG2,\\\n",
    "r_p_fm_secuencia_MOG2 = all_metrics (MOG2_highway_path+'*.png', gt_highway_path, start_frame=469, end_frame=1699)"
   ]
  },
  {
   "cell_type": "markdown",
   "metadata": {},
   "source": [
    "## Comparación resultados"
   ]
  },
  {
   "cell_type": "code",
   "execution_count": 15,
   "metadata": {},
   "outputs": [
    {
     "name": "stderr",
     "output_type": "stream",
     "text": [
      "Loading images: 100%|████████████████████████████████████████████████████████████| 1700/1700 [00:00<00:00, 2642.47it/s]\n",
      "Loading images: 100%|████████████████████████████████████████████████████████████| 1700/1700 [00:00<00:00, 2634.41it/s]\n"
     ]
    }
   ],
   "source": [
    "cm_frames_gt,\\\n",
    "cm_secuencia_gt,\\\n",
    "r_p_fm_frames_gt,\\\n",
    "r_p_fm_secuencia_gt = all_metrics (gt_highway_path, gt_highway_path, start_frame=469, end_frame=1699)"
   ]
  },
  {
   "cell_type": "code",
   "execution_count": 16,
   "metadata": {},
   "outputs": [
    {
     "data": {
      "image/png": "[encoded data removed]",
      "text/plain": [
       "<Figure size 432x288 with 9 Axes>"
      ]
     },
     "metadata": {
      "needs_background": "light"
     },
     "output_type": "display_data"
    }
   ],
   "source": [
    "fig, ax = plt.subplots(3,3, sharex=True, sharey=True)\n",
    "ax[0,0].plot(r_p_fm_frames_EF[0])\n",
    "ax[0,0].set_title(\"recall-EF\")\n",
    "ax[1,0].plot(r_p_fm_frames_EF[1])\n",
    "ax[1,0].set_title(\"precision-EF\")\n",
    "ax[2,0].plot(r_p_fm_frames_EF[2])\n",
    "ax[2,0].set_title(\"f-measure-EF\")\n",
    "\n",
    "ax[0,1].plot(r_p_fm_frames_MOG[0])\n",
    "ax[0,1].set_title(\"recall-MOG\")\n",
    "ax[1,1].plot(r_p_fm_frames_MOG[1])\n",
    "ax[1,1].set_title(\"precision-MOG\")\n",
    "ax[2,1].plot(r_p_fm_frames_MOG[2])\n",
    "ax[2,1].set_title(\"f-measure-MOG\")\n",
    "\n",
    "ax[0,2].plot(r_p_fm_frames_MOG2[0])\n",
    "ax[0,2].set_title(\"recall-MOG2\")\n",
    "ax[1,2].plot(r_p_fm_frames_MOG2[1])\n",
    "ax[1,2].set_title(\"precision-MOG2\")\n",
    "ax[2,2].plot(r_p_fm_frames_MOG2[2])\n",
    "ax[2,2].set_title(\"f-measure-MOG2\")\n",
    "\n",
    "plt.ylim([0,1])\n",
    "fig.tight_layout()\n",
    "plt.show()"
   ]
  },
  {
   "cell_type": "code",
   "execution_count": 17,
   "metadata": {},
   "outputs": [],
   "source": [
    "import pandas as pd"
   ]
  },
  {
   "cell_type": "code",
   "execution_count": 57,
   "metadata": {},
   "outputs": [
    {
     "data": {
      "text/plain": [
       "array([0.60293747, 0.5       , 0.54666514])"
      ]
     },
     "execution_count": 57,
     "metadata": {},
     "output_type": "execute_result"
    }
   ],
   "source": [
    "r_p_fm_secuencia_EF"
   ]
  },
  {
   "cell_type": "code",
   "execution_count": 58,
   "metadata": {},
   "outputs": [
    {
     "data": {
      "text/plain": [
       "array([0.50234751, 0.5       , 0.501171  ])"
      ]
     },
     "execution_count": 58,
     "metadata": {},
     "output_type": "execute_result"
    }
   ],
   "source": [
    "r_p_fm_secuencia_MOG"
   ]
  },
  {
   "cell_type": "code",
   "execution_count": 60,
   "metadata": {},
   "outputs": [
    {
     "data": {
      "text/plain": [
       "array([0.92913693, 0.5       , 0.65013849])"
      ]
     },
     "execution_count": 60,
     "metadata": {},
     "output_type": "execute_result"
    }
   ],
   "source": [
    "r_p_fm_secuencia_MOG2"
   ]
  },
  {
   "cell_type": "code",
   "execution_count": 77,
   "metadata": {},
   "outputs": [
    {
     "data": {
      "text/plain": [
       "array([ 5448641.,        0.,        0., 86228220.])"
      ]
     },
     "execution_count": 77,
     "metadata": {},
     "output_type": "execute_result"
    }
   ],
   "source": [
    "cm_secuencia_gt"
   ]
  },
  {
   "cell_type": "code",
   "execution_count": 81,
   "metadata": {},
   "outputs": [
    {
     "data": {
      "text/plain": [
       "array([-3168986.,    68877.,  2258349.,   -14606.])"
      ]
     },
     "execution_count": 81,
     "metadata": {},
     "output_type": "execute_result"
    }
   ],
   "source": [
    "cm_secuencia_MOG-cm_secuencia_gt"
   ]
  },
  {
   "cell_type": "code",
   "execution_count": 87,
   "metadata": {},
   "outputs": [
    {
     "data": {
      "text/plain": [
       "array([6.02937474e-01, 5.00000000e-01, 5.46665145e-01, 2.95299300e+06,\n",
       "       3.57410400e+06, 1.94468400e+06, 6.80320250e+07])"
      ]
     },
     "execution_count": 87,
     "metadata": {},
     "output_type": "execute_result"
    }
   ],
   "source": [
    "np.concatenate((r_p_fm_secuencia_EF,cm_secuencia_EF))"
   ]
  },
  {
   "cell_type": "code",
   "execution_count": 18,
   "metadata": {},
   "outputs": [
    {
     "data": {
      "text/plain": [
       "94464000.0"
      ]
     },
     "execution_count": 18,
     "metadata": {},
     "output_type": "execute_result"
    }
   ],
   "source": [
    "cm_secuencia_EF.sum()"
   ]
  },
  {
   "cell_type": "code",
   "execution_count": 19,
   "metadata": {},
   "outputs": [
    {
     "data": {
      "text/plain": [
       "94464000.0"
      ]
     },
     "execution_count": 19,
     "metadata": {},
     "output_type": "execute_result"
    }
   ],
   "source": [
    "cm_secuencia_MOG.sum()"
   ]
  },
  {
   "cell_type": "code",
   "execution_count": 20,
   "metadata": {},
   "outputs": [
    {
     "data": {
      "text/plain": [
       "94464000.0"
      ]
     },
     "execution_count": 20,
     "metadata": {},
     "output_type": "execute_result"
    }
   ],
   "source": [
    "cm_secuencia_MOG2.sum()"
   ]
  },
  {
   "cell_type": "code",
   "execution_count": 21,
   "metadata": {},
   "outputs": [
    {
     "data": {
      "text/plain": [
       "91676861.0"
      ]
     },
     "execution_count": 21,
     "metadata": {},
     "output_type": "execute_result"
    }
   ],
   "source": [
    "cm_secuencia_gt.sum()"
   ]
  },
  {
   "cell_type": "code",
   "execution_count": 22,
   "metadata": {},
   "outputs": [
    {
     "name": "stderr",
     "output_type": "stream",
     "text": [
      "Loading images: 100%|████████████████████████████████████████████████████████████| 1700/1700 [00:00<00:00, 2606.23it/s]\n"
     ]
    }
   ],
   "source": [
    "gt_result = loadImages(gt_highway_path)"
   ]
  },
  {
   "cell_type": "code",
   "execution_count": 44,
   "metadata": {},
   "outputs": [
    {
     "data": {
      "text/plain": [
       "240"
      ]
     },
     "execution_count": 44,
     "metadata": {},
     "output_type": "execute_result"
    }
   ],
   "source": [
    "(gt_result[0].shape[0])"
   ]
  },
  {
   "cell_type": "code",
   "execution_count": 53,
   "metadata": {},
   "outputs": [
    {
     "name": "stdout",
     "output_type": "stream",
     "text": [
      "[  0 170 255]\n",
      "[  0 170 255]\n",
      "[  0 170 255]\n",
      "[  0 170 255]\n",
      "[  0 170 255]\n",
      "[  0 170 255]\n",
      "[  0 170 255]\n",
      "[  0 170 255]\n",
      "[  0 170 255]\n",
      "[  0 170 255]\n",
      "[  0 170 255]\n",
      "[  0 170 255]\n",
      "[  0 170 255]\n",
      "[  0 170 255]\n",
      "[  0 170 255]\n",
      "[  0 170 255]\n",
      "[  0 170 255]\n",
      "[  0 170 255]\n",
      "[  0 170 255]\n",
      "[  0 170 255]\n",
      "[  0 170 255]\n",
      "[  0 170 255]\n",
      "[  0 170 255]\n",
      "[  0 170 255]\n",
      "[  0 170 255]\n",
      "[  0 170 255]\n",
      "[  0 170 255]\n",
      "[  0 170 255]\n",
      "[  0 170 255]\n",
      "[  0 170 255]\n",
      "[  0 170 255]\n",
      "[  0 170 255]\n",
      "[  0 170 255]\n",
      "[  0 170 255]\n",
      "[  0 170 255]\n",
      "[  0 170 255]\n",
      "[  0 170 255]\n",
      "[  0 170 255]\n",
      "[  0 170 255]\n",
      "[  0 170 255]\n",
      "[  0 170 255]\n",
      "[  0 170 255]\n",
      "[  0 170 255]\n",
      "[  0 170 255]\n",
      "[  0 170 255]\n",
      "[  0 170 255]\n",
      "[  0 170 255]\n",
      "[  0 170 255]\n",
      "[  0 170 255]\n",
      "[  0 170 255]\n",
      "[  0 170 255]\n",
      "[  0 170 255]\n",
      "[  0 170 255]\n",
      "[  0 170 255]\n",
      "[  0 170 255]\n",
      "[  0 170 255]\n",
      "[  0 170 255]\n",
      "[  0 170 255]\n",
      "[  0 170 255]\n",
      "[  0 170 255]\n",
      "[  0 170 255]\n",
      "[  0 170 255]\n",
      "[  0 170 255]\n",
      "[  0 170 255]\n",
      "[  0 170 255]\n",
      "[  0 170 255]\n",
      "[  0 170 255]\n",
      "[  0 170 255]\n",
      "[  0 170 255]\n",
      "[  0 170 255]\n",
      "[  0 170 255]\n",
      "[  0 170 255]\n",
      "[  0 170 255]\n",
      "[  0 170 255]\n",
      "[  0 170 255]\n",
      "[  0 170 255]\n",
      "[  0 170 255]\n",
      "[  0 170 255]\n",
      "[  0 170 255]\n",
      "[  0 170 255]\n",
      "[  0 170 255]\n",
      "[  0 170 255]\n",
      "[  0 170 255]\n",
      "[  0 170 255]\n",
      "[  0 170 255]\n",
      "[  0 170 255]\n",
      "[  0 170 255]\n",
      "[  0 170 255]\n",
      "[  0 170 255]\n",
      "[  0 170 255]\n",
      "[  0 170 255]\n",
      "[  0 170 255]\n",
      "[  0 170 255]\n",
      "[  0 170 255]\n",
      "[  0 170 255]\n",
      "[  0 170 255]\n",
      "[  0 170 255]\n",
      "[  0 170 255]\n",
      "[  0 170 255]\n",
      "[  0 170 255]\n",
      "[  0 170 255]\n",
      "[  0 170 255]\n",
      "[  0 170 255]\n",
      "[  0 170 255]\n",
      "[  0 170 255]\n",
      "[  0 170 255]\n",
      "[  0 170 255]\n",
      "[  0 170 255]\n",
      "[  0 170 255]\n",
      "[  0 170 255]\n",
      "[  0 170 255]\n",
      "[  0 170 255]\n",
      "[  0 170 255]\n",
      "[  0 170 255]\n",
      "[  0 170 255]\n",
      "[  0 170 255]\n",
      "[  0 170 255]\n",
      "[  0 170 255]\n",
      "[  0 170 255]\n",
      "[  0  50 170 255]\n",
      "[  0  50 170 255]\n",
      "[  0 170 255]\n",
      "[  0  50 170 255]\n",
      "[  0  50 170 255]\n",
      "[  0 170 255]\n",
      "[  0 170 255]\n",
      "[  0 170 255]\n",
      "[  0 170 255]\n",
      "[  0  50 170 255]\n",
      "[  0  50 170 255]\n",
      "[  0 170 255]\n",
      "[  0 170 255]\n",
      "[  0  50 170 255]\n",
      "[  0 170 255]\n",
      "[  0 170 255]\n",
      "[  0  50 170 255]\n",
      "[  0  50 170 255]\n",
      "[  0  50 170 255]\n",
      "[  0  50 170 255]\n",
      "[  0 170 255]\n",
      "[  0  50 170 255]\n",
      "[  0  50 170 255]\n",
      "[  0  50 170 255]\n",
      "[  0  50 170 255]\n",
      "[  0  50 170 255]\n",
      "[  0  50 170 255]\n",
      "[  0  50 170 255]\n",
      "[  0  50 170 255]\n",
      "[  0  50 170 255]\n",
      "[  0  50 170 255]\n",
      "[  0  50 170 255]\n",
      "[  0  50 170 255]\n",
      "[  0  50 170 255]\n",
      "[  0  50 170 255]\n",
      "[  0  50 170 255]\n",
      "[  0  50 170 255]\n",
      "[  0  50 170 255]\n",
      "[  0  50 170 255]\n",
      "[  0  50 170 255]\n",
      "[  0  50 170 255]\n",
      "[  0  50 170 255]\n",
      "[  0  50 170 255]\n",
      "[  0  50 170 255]\n",
      "[  0 170 255]\n",
      "[  0  50 170 255]\n",
      "[  0  50 170 255]\n",
      "[  0  50 170 255]\n",
      "[  0  50 170 255]\n",
      "[  0  50 170 255]\n",
      "[  0  50 170 255]\n",
      "[  0  50 170 255]\n",
      "[  0  50 170 255]\n",
      "[  0  50 170 255]\n",
      "[  0  50 170 255]\n",
      "[  0  50 170 255]\n",
      "[  0  50 170 255]\n",
      "[  0  50 170 255]\n",
      "[  0  50 170 255]\n",
      "[  0  50 170 255]\n",
      "[  0  50 170 255]\n",
      "[  0  50 170 255]\n",
      "[  0  50 170 255]\n",
      "[  0  50 170 255]\n",
      "[  0  50 170 255]\n",
      "[  0  50 170 255]\n",
      "[  0  50 170 255]\n",
      "[  0  50 170 255]\n",
      "[  0  50 170 255]\n",
      "[  0  50 170 255]\n",
      "[  0  50 170 255]\n",
      "[  0  50 170 255]\n",
      "[  0  50 170 255]\n",
      "[  0  50 170 255]\n",
      "[  0  50 170 255]\n",
      "[  0  50 170 255]\n",
      "[  0  50 170 255]\n",
      "[  0  50 170 255]\n",
      "[  0  50 170 255]\n",
      "[  0  50 170 255]\n",
      "[  0  50 170 255]\n",
      "[  0  50 170 255]\n",
      "[  0  50 170 255]\n",
      "[  0  50 170 255]\n",
      "[  0  50 170 255]\n",
      "[  0  50 170 255]\n",
      "[  0  50 170 255]\n",
      "[  0  50 170 255]\n",
      "[  0  50 170 255]\n",
      "[  0  50 170 255]\n",
      "[  0  50 170 255]\n",
      "[  0  50 170 255]\n",
      "[  0  50 170 255]\n",
      "[  0  50 170 255]\n",
      "[  0  50 170 255]\n",
      "[  0  50 170 255]\n",
      "[  0  50 170 255]\n",
      "[  0  50 170 255]\n",
      "[  0  50 170 255]\n",
      "[  0  50 170 255]\n",
      "[  0  50 170 255]\n",
      "[  0  50 170 255]\n",
      "[  0  50 170 255]\n",
      "[  0  50 170 255]\n",
      "[  0  50 170 255]\n",
      "[  0  50 170 255]\n",
      "[  0  50 170 255]\n",
      "[  0 170 255]\n",
      "[  0 170 255]\n",
      "[  0 170 255]\n",
      "[  0 170 255]\n",
      "[  0 170 255]\n",
      "[  0 170 255]\n",
      "[  0 170 255]\n",
      "[  0 170 255]\n",
      "[  0 170 255]\n",
      "[  0 170 255]\n",
      "[  0 170 255]\n",
      "[  0 170 255]\n",
      "[  0 170 255]\n",
      "[  0  50 170 255]\n",
      "[  0 170 255]\n",
      "[  0 170 255]\n",
      "[  0 170 255]\n",
      "[  0 170 255]\n",
      "[  0  50 170 255]\n",
      "[  0 170 255]\n",
      "[  0  50 170 255]\n",
      "[  0 170 255]\n",
      "[  0 170 255]\n",
      "[  0 170 255]\n",
      "[  0 170 255]\n",
      "[  0 170 255]\n",
      "[  0 170 255]\n",
      "[  0 170 255]\n",
      "[  0  50 170 255]\n",
      "[  0  50 170 255]\n",
      "[  0 170 255]\n",
      "[  0  50 170 255]\n",
      "[  0  50 170 255]\n",
      "[  0  50 170 255]\n",
      "[  0 170 255]\n",
      "[  0 170 255]\n",
      "[  0 170 255]\n",
      "[  0  50 170 255]\n",
      "[  0  50 170 255]\n",
      "[  0  50 170 255]\n",
      "[  0  50 170 255]\n",
      "[  0  50 170 255]\n",
      "[  0  50 170 255]\n",
      "[  0  50 170 255]\n",
      "[  0  50 170 255]\n",
      "[  0  50 170 255]\n",
      "[  0  50 170 255]\n",
      "[  0  50 170 255]\n",
      "[  0  50 170 255]\n",
      "[  0  50 170 255]\n",
      "[  0  50 170 255]\n",
      "[  0  50 170 255]\n",
      "[  0  50 170 255]\n",
      "[  0  50 170 255]\n",
      "[  0  50 170 255]\n",
      "[  0  50 170 255]\n",
      "[  0  50 170 255]\n",
      "[  0  50 170 255]\n",
      "[  0  50 170 255]\n",
      "[  0  50 170 255]\n",
      "[  0  50 170 255]\n",
      "[  0  50 170 255]\n",
      "[  0  50 170 255]\n",
      "[  0  50 170 255]\n",
      "[  0  50 170 255]\n",
      "[  0  50 170 255]\n",
      "[  0  50 170 255]\n",
      "[  0  50 170 255]\n",
      "[  0  50 170 255]\n",
      "[  0  50 170 255]\n",
      "[  0  50 170 255]\n",
      "[  0  50 170 255]\n",
      "[  0  50 170 255]\n",
      "[  0  50 170 255]\n",
      "[  0  50 170 255]\n",
      "[  0  50 170 255]\n",
      "[  0  50 170 255]\n",
      "[  0  50 170 255]\n",
      "[  0  50 170 255]\n",
      "[  0  50 170 255]\n",
      "[  0  50 170 255]\n",
      "[  0  50 170 255]\n",
      "[  0  50 170 255]\n",
      "[  0  50 170 255]\n",
      "[  0  50 170 255]\n",
      "[  0  50 170 255]\n",
      "[  0  50 170 255]\n",
      "[  0  50 170 255]\n",
      "[  0  50 170 255]\n",
      "[  0  50 170 255]\n",
      "[  0  50 170 255]\n",
      "[  0  50 170 255]\n",
      "[  0  50 170 255]\n",
      "[  0  50 170 255]\n",
      "[  0  50 170 255]\n",
      "[  0  50 170 255]\n",
      "[  0  50 170 255]\n",
      "[  0  50 170 255]\n",
      "[  0  50 170 255]\n",
      "[  0  50 170 255]\n",
      "[  0  50 170 255]\n",
      "[  0  50 170 255]\n",
      "[  0  50 170 255]\n",
      "[  0  50 170 255]\n",
      "[  0  50 170 255]\n",
      "[  0  50 170 255]\n",
      "[  0  50 170 255]\n",
      "[  0  50 170 255]\n",
      "[  0  50 170 255]\n",
      "[  0  50 170 255]\n",
      "[  0  50 170 255]\n",
      "[  0  50 170 255]\n",
      "[  0  50 170 255]\n",
      "[  0  50 170 255]\n",
      "[  0  50 170 255]\n",
      "[  0  50 170 255]\n",
      "[  0  50 170 255]\n",
      "[  0  50 170 255]\n",
      "[  0  50 170 255]\n",
      "[  0  50 170 255]\n",
      "[  0  50 170 255]\n",
      "[  0  50 170 255]\n",
      "[  0  50 170 255]\n",
      "[  0  50 170 255]\n",
      "[  0  50 170 255]\n",
      "[  0  50 170 255]\n",
      "[  0  50 170 255]\n",
      "[  0  50 170 255]\n",
      "[  0  50 170 255]\n",
      "[  0  50 170 255]\n",
      "[  0  50 170 255]\n",
      "[  0  50 170 255]\n",
      "[  0  50 170 255]\n",
      "[  0  50 170 255]\n",
      "[  0  50 170 255]\n",
      "[  0  50 170 255]\n",
      "[  0  50 170 255]\n",
      "[  0  50 170 255]\n",
      "[  0  50 170 255]\n",
      "[  0  50 170 255]\n",
      "[  0  50 170 255]\n",
      "[  0  50 170 255]\n",
      "[  0  50 170 255]\n",
      "[  0  50 170 255]\n",
      "[  0  50 170 255]\n",
      "[  0  50 170 255]\n",
      "[  0  50 170 255]\n",
      "[  0  50 170 255]\n",
      "[  0  50 170 255]\n",
      "[  0  50 170 255]\n",
      "[  0  50 170 255]\n",
      "[  0  50 170 255]\n",
      "[  0  50 170 255]\n",
      "[  0  50 170 255]\n",
      "[  0  50 170 255]\n",
      "[  0  50 170 255]\n",
      "[  0  50 170 255]\n",
      "[  0  50 170 255]\n",
      "[  0  50 170 255]\n",
      "[  0  50 170 255]\n",
      "[  0  50 170 255]\n",
      "[  0  50 170 255]\n",
      "[  0  50 170 255]\n",
      "[  0  50 170 255]\n",
      "[  0  50 170 255]\n",
      "[  0  50 170 255]\n",
      "[  0  50 170 255]\n",
      "[  0  50 170 255]\n",
      "[  0  50 170 255]\n",
      "[  0  50 170 255]\n",
      "[  0  50 170 255]\n",
      "[  0  50 170 255]\n",
      "[  0  50 170 255]\n",
      "[  0  50 170 255]\n",
      "[  0  50 170 255]\n",
      "[  0  50 170 255]\n",
      "[  0  50 170 255]\n",
      "[  0  50 170 255]\n",
      "[  0  50 170 255]\n",
      "[  0  50 170 255]\n",
      "[  0  50 170 255]\n",
      "[  0  50 170 255]\n",
      "[  0  50 170 255]\n",
      "[  0  50 170 255]\n",
      "[  0  50 170 255]\n",
      "[  0  50 170 255]\n",
      "[  0  50 170 255]\n",
      "[  0  50 170 255]\n",
      "[  0  50 170 255]\n",
      "[  0  50 170 255]\n",
      "[  0  50 170 255]\n",
      "[  0  50 170 255]\n",
      "[  0  50 170 255]\n",
      "[  0  50 170 255]\n",
      "[  0  50 170 255]\n",
      "[  0  50 170 255]\n",
      "[  0  50 170 255]\n",
      "[  0  50 170 255]\n",
      "[  0  50 170 255]\n",
      "[  0  50 170 255]\n",
      "[  0  50 170 255]\n",
      "[  0  50 170 255]\n",
      "[  0  50 170 255]\n",
      "[  0  50 170 255]\n",
      "[  0  50 170 255]\n",
      "[  0  50 170 255]\n",
      "[  0  50 170 255]\n",
      "[  0  50 170 255]\n",
      "[  0  50 170 255]\n",
      "[  0  50 170 255]\n",
      "[  0  50 170 255]\n",
      "[  0  50 170 255]\n",
      "[  0  50 170 255]\n",
      "[  0  50 170 255]\n",
      "[  0  50 170 255]\n",
      "[  0  50 170 255]\n",
      "[  0  50 170 255]\n",
      "[  0  50 170 255]\n",
      "[  0  50 170 255]\n",
      "[  0  50 170 255]\n",
      "[  0  50 170 255]\n",
      "[  0  50 170 255]\n",
      "[  0  50 170 255]\n",
      "[  0  50 170 255]\n",
      "[  0  50 170 255]\n",
      "[  0  50 170 255]\n",
      "[  0  50 170 255]\n",
      "[  0  50 170 255]\n",
      "[  0  50 170 255]\n",
      "[  0  50 170 255]\n",
      "[  0  50 170 255]\n",
      "[  0  50 170 255]\n",
      "[  0  50 170 255]\n",
      "[  0  50 170 255]\n",
      "[  0  50 170 255]\n",
      "[  0  50 170 255]\n",
      "[  0  50 170 255]\n",
      "[  0  50 170 255]\n",
      "[  0  50 170 255]\n",
      "[  0  50 170 255]\n",
      "[  0  50 170 255]\n",
      "[  0  50 170 255]\n",
      "[  0  50 170 255]\n",
      "[  0  50 170 255]\n",
      "[  0  50 170 255]\n",
      "[  0  50 170 255]\n",
      "[  0  50 170 255]\n",
      "[  0  50 170 255]\n",
      "[  0  50 170 255]\n",
      "[  0  50 170 255]\n",
      "[  0  50 170 255]\n",
      "[  0  50 170 255]\n",
      "[  0  50 170 255]\n",
      "[  0  50 170 255]\n",
      "[  0  50 170 255]\n",
      "[  0  50 170 255]\n",
      "[  0  50 170 255]\n",
      "[  0  50 170 255]\n",
      "[  0  50 170 255]\n",
      "[  0  50 170 255]\n",
      "[  0  50 170 255]\n",
      "[  0  50 170 255]\n",
      "[  0  50 170 255]\n",
      "[  0  50 170 255]\n",
      "[  0  50 170 255]\n",
      "[  0  50 170 255]\n",
      "[  0  50 170 255]\n",
      "[  0  50 170 255]\n",
      "[  0  50 170 255]\n",
      "[  0  50 170 255]\n",
      "[  0  50 170 255]\n",
      "[  0  50 170 255]\n",
      "[  0  50 170 255]\n",
      "[  0  50 170 255]\n",
      "[  0  50 170 255]\n",
      "[  0  50 170 255]\n",
      "[  0  50 170 255]\n",
      "[  0  50 170 255]\n",
      "[  0  50 170 255]\n",
      "[  0  50 170 255]\n",
      "[  0  50 170 255]\n",
      "[  0  50 170 255]\n",
      "[  0  50 170 255]\n",
      "[  0  50 170 255]\n",
      "[  0  50 170 255]\n",
      "[  0  50 170 255]\n",
      "[  0  50 170 255]\n",
      "[  0  50 170 255]\n",
      "[  0  50 170 255]\n",
      "[  0  50 170 255]\n",
      "[  0  50 170 255]\n",
      "[  0  50 170 255]\n",
      "[  0  50 170 255]\n",
      "[  0  50 170 255]\n",
      "[  0  50 170 255]\n",
      "[  0  50 170 255]\n",
      "[  0  50 170 255]\n",
      "[  0  50 170 255]\n",
      "[  0  50 170 255]\n",
      "[  0  50 170 255]\n",
      "[  0  50 170 255]\n",
      "[  0  50 170 255]\n",
      "[  0  50 170 255]\n",
      "[  0  50 170 255]\n",
      "[  0  50 170 255]\n",
      "[  0  50 170 255]\n",
      "[  0  50 170 255]\n"
     ]
    },
    {
     "name": "stdout",
     "output_type": "stream",
     "text": [
      "[  0  50 170 255]\n",
      "[  0  50 170 255]\n",
      "[  0  50 170 255]\n",
      "[  0  50 170 255]\n",
      "[  0  50 170 255]\n",
      "[  0  50 170 255]\n",
      "[  0  50 170 255]\n",
      "[  0  50 170 255]\n",
      "[  0  50 170 255]\n",
      "[  0  50 170 255]\n",
      "[  0  50 170 255]\n",
      "[  0  50 170 255]\n",
      "[  0  50 170 255]\n",
      "[  0  50 170 255]\n",
      "[  0  50 170 255]\n",
      "[  0  50 170 255]\n",
      "[  0  50 170 255]\n",
      "[  0  50 170 255]\n",
      "[  0  50 170 255]\n",
      "[  0  50 170 255]\n",
      "[  0  50 170 255]\n",
      "[  0  50 170 255]\n",
      "[  0  50 170 255]\n",
      "[  0  50 170 255]\n",
      "[  0  50 170 255]\n",
      "[  0  50 170 255]\n",
      "[  0  50 170 255]\n",
      "[  0  50 170 255]\n",
      "[  0  50 170 255]\n",
      "[  0  50 170 255]\n",
      "[  0  50 170 255]\n",
      "[  0  50 170 255]\n",
      "[  0  50 170 255]\n",
      "[  0  50 170 255]\n",
      "[  0  50 170 255]\n",
      "[  0  50 170 255]\n",
      "[  0  50 170 255]\n",
      "[  0  50 170 255]\n",
      "[  0  50 170 255]\n",
      "[  0  50 170 255]\n",
      "[  0  50 170 255]\n",
      "[  0  50 170 255]\n",
      "[  0  50 170 255]\n",
      "[  0  50 170 255]\n",
      "[  0  50 170 255]\n",
      "[  0  50 170 255]\n",
      "[  0  50 170 255]\n",
      "[  0  50 170 255]\n",
      "[  0  50 170 255]\n",
      "[  0  50 170 255]\n",
      "[  0  50 170 255]\n",
      "[  0  50 170 255]\n",
      "[  0  50 170 255]\n",
      "[  0  50 170 255]\n",
      "[  0  50 170 255]\n",
      "[  0  50 170 255]\n",
      "[  0  50 170 255]\n",
      "[  0  50 170 255]\n",
      "[  0  50 170 255]\n",
      "[  0  50 170 255]\n",
      "[  0  50 170 255]\n",
      "[  0  50 170 255]\n",
      "[  0  50 170 255]\n",
      "[  0  50 170 255]\n",
      "[  0  50 170 255]\n",
      "[  0  50 170 255]\n",
      "[  0  50 170 255]\n",
      "[  0  50 170 255]\n",
      "[  0  50 170 255]\n",
      "[  0  50 170 255]\n",
      "[  0  50 170 255]\n",
      "[  0  50 170 255]\n",
      "[  0  50 170 255]\n",
      "[  0  50 170 255]\n",
      "[  0  50 170 255]\n",
      "[  0  50 170 255]\n",
      "[  0  50 170 255]\n",
      "[  0  50 170 255]\n",
      "[  0  50 170 255]\n",
      "[  0  50 170 255]\n",
      "[  0  50 170 255]\n",
      "[  0  50 170 255]\n",
      "[  0  50 170 255]\n",
      "[  0  50 170 255]\n",
      "[  0  50 170 255]\n",
      "[  0  50 170 255]\n",
      "[  0  50 170 255]\n",
      "[  0  50 170 255]\n",
      "[  0  50 170 255]\n",
      "[  0  50 170 255]\n",
      "[  0  50 170 255]\n",
      "[  0  50 170 255]\n",
      "[  0  50 170 255]\n",
      "[  0  50 170 255]\n",
      "[  0  50 170 255]\n",
      "[  0  50 170 255]\n",
      "[  0  50 170 255]\n",
      "[  0  50 170 255]\n",
      "[  0  50 170 255]\n",
      "[  0  50 170 255]\n",
      "[  0  50 170 255]\n",
      "[  0  50 170 255]\n",
      "[  0  50 170 255]\n",
      "[  0  50 170 255]\n",
      "[  0  50 170 255]\n",
      "[  0  50 170 255]\n",
      "[  0  50 170 255]\n",
      "[  0  50 170 255]\n",
      "[  0  50 170 255]\n",
      "[  0  50 170 255]\n",
      "[  0  50 170 255]\n",
      "[  0  50 170 255]\n",
      "[  0  50 170 255]\n",
      "[  0  50 170 255]\n",
      "[  0  50 170 255]\n",
      "[  0  50 170 255]\n",
      "[  0  50 170 255]\n",
      "[  0  50 170 255]\n",
      "[  0  50 170 255]\n",
      "[  0  50 170 255]\n",
      "[  0  50 170 255]\n",
      "[  0  50 170 255]\n",
      "[  0  50 170 255]\n",
      "[  0  50 170 255]\n",
      "[  0  50 170 255]\n",
      "[  0  50 170 255]\n",
      "[  0  50 170 255]\n",
      "[  0  50 170 255]\n",
      "[  0  50 170 255]\n",
      "[  0  50 170 255]\n",
      "[  0  50 170 255]\n",
      "[  0  50 170 255]\n",
      "[  0  50 170 255]\n",
      "[  0  50 170 255]\n",
      "[  0  50 170 255]\n",
      "[  0  50 170 255]\n",
      "[  0  50 170 255]\n",
      "[  0  50 170 255]\n",
      "[  0  50 170 255]\n",
      "[  0  50 170 255]\n",
      "[  0  50 170 255]\n",
      "[  0  50 170 255]\n",
      "[  0  50 170 255]\n",
      "[  0  50 170 255]\n",
      "[  0  50 170 255]\n",
      "[  0  50 170 255]\n",
      "[  0  50 170 255]\n",
      "[  0  50 170 255]\n",
      "[  0  50 170 255]\n",
      "[  0  50 170 255]\n",
      "[  0  50 170 255]\n",
      "[  0  50 170 255]\n",
      "[  0  50 170 255]\n",
      "[  0  50 170 255]\n",
      "[  0  50 170 255]\n",
      "[  0  50 170 255]\n",
      "[  0  50 170 255]\n",
      "[  0  50 170 255]\n",
      "[  0  50 170 255]\n",
      "[  0  50 170 255]\n",
      "[  0  50 170 255]\n",
      "[  0  50 170 255]\n",
      "[  0  50 170 255]\n",
      "[  0  50 170 255]\n",
      "[  0  50 170 255]\n",
      "[  0  50 170 255]\n",
      "[  0  50 170 255]\n",
      "[  0  50 170 255]\n",
      "[  0  50 170 255]\n",
      "[  0  50 170 255]\n",
      "[  0  50 170 255]\n",
      "[  0  50 170 255]\n",
      "[  0  50 170 255]\n",
      "[  0  50 170 255]\n",
      "[  0  50 170 255]\n",
      "[  0  50 170 255]\n",
      "[  0  50 170 255]\n",
      "[  0  50 170 255]\n",
      "[  0  50 170 255]\n",
      "[  0  50 170 255]\n",
      "[  0  50 170 255]\n",
      "[  0  50 170 255]\n",
      "[  0  50 170 255]\n",
      "[  0  50 170 255]\n",
      "[  0  50 170 255]\n",
      "[  0  50 170 255]\n",
      "[  0  50 170 255]\n",
      "[  0  50 170 255]\n",
      "[  0  50 170 255]\n",
      "[  0  50 170 255]\n",
      "[  0  50 170 255]\n",
      "[  0  50 170 255]\n",
      "[  0  50 170 255]\n",
      "[  0  50 170 255]\n",
      "[  0  50 170 255]\n",
      "[  0  50 170 255]\n",
      "[  0  50 170 255]\n",
      "[  0  50 170 255]\n",
      "[  0  50 170 255]\n",
      "[  0  50 170 255]\n",
      "[  0  50 170 255]\n",
      "[  0  50 170 255]\n",
      "[  0  50 170 255]\n",
      "[  0  50 170 255]\n",
      "[  0  50 170 255]\n",
      "[  0  50 170 255]\n",
      "[  0  50 170 255]\n",
      "[  0  50 170 255]\n",
      "[  0  50 170 255]\n",
      "[  0  50 170 255]\n",
      "[  0  50 170 255]\n",
      "[  0  50 170 255]\n",
      "[  0  50 170 255]\n",
      "[  0  50 170 255]\n",
      "[  0  50 170 255]\n",
      "[  0  50 170 255]\n",
      "[  0  50 170 255]\n",
      "[  0  50 170 255]\n",
      "[  0  50 170 255]\n",
      "[  0  50 170 255]\n",
      "[  0  50 170 255]\n",
      "[  0  50 170 255]\n",
      "[  0  50 170 255]\n",
      "[  0  50 170 255]\n",
      "[  0  50 170 255]\n",
      "[  0  50 170 255]\n",
      "[  0  50 170 255]\n",
      "[  0  50 170 255]\n",
      "[  0  50 170 255]\n",
      "[  0  50 170 255]\n",
      "[  0 170 255]\n",
      "[  0  50 170 255]\n",
      "[  0  50 170 255]\n",
      "[  0  50 170 255]\n",
      "[  0  50 170 255]\n",
      "[  0  50 170 255]\n",
      "[  0  50 170 255]\n",
      "[  0  50 170 255]\n",
      "[  0  50 170 255]\n",
      "[  0  50 170 255]\n",
      "[  0  50 170 255]\n",
      "[  0  50 170 255]\n",
      "[  0  50 170 255]\n",
      "[  0  50 170 255]\n",
      "[  0  50 170 255]\n",
      "[  0  50 170 255]\n",
      "[  0  50 170 255]\n",
      "[  0  50 170 255]\n",
      "[  0  50 170 255]\n",
      "[  0  50 170 255]\n",
      "[  0  50 170 255]\n",
      "[  0  50 170 255]\n",
      "[  0  50 170 255]\n",
      "[  0  50 170 255]\n",
      "[  0  50 170 255]\n",
      "[  0  50 170 255]\n",
      "[  0  50 170 255]\n",
      "[  0  50 170 255]\n",
      "[  0  50 170 255]\n",
      "[  0  50 170 255]\n",
      "[  0  50 170 255]\n",
      "[  0  50 170 255]\n",
      "[  0  50 170 255]\n",
      "[  0  50 170 255]\n",
      "[  0  50 170 255]\n",
      "[  0  50 170 255]\n",
      "[  0  50 170 255]\n",
      "[  0  50 170 255]\n",
      "[  0  50 170 255]\n",
      "[  0  50 170 255]\n",
      "[  0  50 170 255]\n",
      "[  0  50 170 255]\n",
      "[  0  50 170 255]\n",
      "[  0  50 170 255]\n",
      "[  0  50 170 255]\n",
      "[  0  50 170 255]\n",
      "[  0  50 170 255]\n",
      "[  0  50 170 255]\n",
      "[  0  50 170 255]\n",
      "[  0  50 170 255]\n",
      "[  0  50 170 255]\n",
      "[  0  50 170 255]\n",
      "[  0  50 170 255]\n",
      "[  0  50 170 255]\n",
      "[  0  50 170 255]\n",
      "[  0  50 170 255]\n",
      "[  0  50 170 255]\n",
      "[  0  50 170 255]\n",
      "[  0  50 170 255]\n",
      "[  0  50 170 255]\n",
      "[  0  50 170 255]\n",
      "[  0  50 170 255]\n",
      "[  0  50 170 255]\n",
      "[  0  50 170 255]\n",
      "[  0  50 170 255]\n",
      "[  0  50 170 255]\n",
      "[  0  50 170 255]\n",
      "[  0  50 170 255]\n",
      "[  0  50 170 255]\n",
      "[  0  50 170 255]\n",
      "[  0  50 170 255]\n",
      "[  0  50 170 255]\n",
      "[  0  50 170 255]\n",
      "[  0  50 170 255]\n",
      "[  0  50 170 255]\n",
      "[  0  50 170 255]\n",
      "[  0  50 170 255]\n",
      "[  0  50 170 255]\n",
      "[  0  50 170 255]\n",
      "[  0  50 170 255]\n",
      "[  0  50 170 255]\n",
      "[  0  50 170 255]\n",
      "[  0  50 170 255]\n",
      "[  0  50 170 255]\n",
      "[  0  50 170 255]\n",
      "[  0  50 170 255]\n",
      "[  0  50 170 255]\n",
      "[  0  50 170 255]\n",
      "[  0  50 170 255]\n",
      "[  0  50 170 255]\n",
      "[  0  50 170 255]\n",
      "[  0  50 170 255]\n",
      "[  0  50 170 255]\n",
      "[  0  50 170 255]\n",
      "[  0  50 170 255]\n",
      "[  0  50 170 255]\n",
      "[  0  50 170 255]\n",
      "[  0  50 170 255]\n",
      "[  0  50 170 255]\n",
      "[  0  50 170 255]\n",
      "[  0  50 170 255]\n",
      "[  0  50 170 255]\n",
      "[  0  50 170 255]\n",
      "[  0  50 170 255]\n",
      "[  0  50 170 255]\n",
      "[  0  50 170 255]\n",
      "[  0  50 170 255]\n",
      "[  0  50 170 255]\n",
      "[  0  50 170 255]\n",
      "[  0  50 170 255]\n",
      "[  0  50 170 255]\n",
      "[  0  50 170 255]\n",
      "[  0  50 170 255]\n",
      "[  0  50 170 255]\n",
      "[  0  50 170 255]\n",
      "[  0  50 170 255]\n",
      "[  0  50 170 255]\n",
      "[  0  50 170 255]\n",
      "[  0  50 170 255]\n",
      "[  0  50 170 255]\n",
      "[  0  50 170 255]\n",
      "[  0  50 170 255]\n",
      "[  0  50 170 255]\n",
      "[  0  50 170 255]\n",
      "[  0  50 170 255]\n",
      "[  0  50 170 255]\n",
      "[  0  50 170 255]\n",
      "[  0  50 170 255]\n",
      "[  0  50 170 255]\n",
      "[  0  50 170 255]\n",
      "[  0  50 170 255]\n",
      "[  0  50 170 255]\n",
      "[  0  50 170 255]\n",
      "[  0  50 170 255]\n",
      "[  0  50 170 255]\n",
      "[  0  50 170 255]\n",
      "[  0  50 170 255]\n",
      "[  0  50 170 255]\n",
      "[  0  50 170 255]\n",
      "[  0  50 170 255]\n",
      "[  0  50 170 255]\n",
      "[  0  50 170 255]\n",
      "[  0  50 170 255]\n",
      "[  0  50 170 255]\n",
      "[  0  50 170 255]\n",
      "[  0  50 170 255]\n",
      "[  0  50 170 255]\n",
      "[  0  50 170 255]\n",
      "[  0  50 170 255]\n",
      "[  0  50 170 255]\n",
      "[  0  50 170 255]\n",
      "[  0  50 170 255]\n",
      "[  0  50 170 255]\n",
      "[  0  50 170 255]\n",
      "[  0  50 170 255]\n",
      "[  0  50 170 255]\n",
      "[  0  50 170 255]\n",
      "[  0  50 170 255]\n",
      "[  0  50 170 255]\n",
      "[  0  50 170 255]\n",
      "[  0  50 170 255]\n",
      "[  0  50 170 255]\n",
      "[  0  50 170 255]\n",
      "[  0  50 170 255]\n",
      "[  0  50 170 255]\n",
      "[  0  50 170 255]\n",
      "[  0  50 170 255]\n",
      "[  0  50 170 255]\n",
      "[  0  50 170 255]\n",
      "[  0  50 170 255]\n",
      "[  0  50 170 255]\n",
      "[  0  50 170 255]\n",
      "[  0  50 170 255]\n",
      "[  0  50 170 255]\n",
      "[  0  50 170 255]\n",
      "[  0  50 170 255]\n",
      "[  0  50 170 255]\n",
      "[  0  50 170 255]\n",
      "[  0  50 170 255]\n",
      "[  0  50 170 255]\n",
      "[  0  50 170 255]\n",
      "[  0  50 170 255]\n",
      "[  0  50 170 255]\n",
      "[  0  50 170 255]\n",
      "[  0  50 170 255]\n",
      "[  0  50 170 255]\n",
      "[  0  50 170 255]\n",
      "[  0  50 170 255]\n",
      "[  0  50 170 255]\n",
      "[  0  50 170 255]\n",
      "[  0  50 170 255]\n",
      "[  0  50 170 255]\n",
      "[  0  50 170 255]\n",
      "[  0  50 170 255]\n",
      "[  0  50 170 255]\n",
      "[  0  50 170 255]\n",
      "[  0  50 170 255]\n",
      "[  0  50 170 255]\n",
      "[  0  50 170 255]\n",
      "[  0  50 170 255]\n",
      "[  0  50 170 255]\n",
      "[  0  50 170 255]\n",
      "[  0  50 170 255]\n",
      "[  0  50 170 255]\n",
      "[  0  50 170 255]\n",
      "[  0  50 170 255]\n",
      "[  0  50 170 255]\n",
      "[  0  50 170 255]\n",
      "[  0  50 170 255]\n",
      "[  0  50 170 255]\n",
      "[  0  50 170 255]\n",
      "[  0  50 170 255]\n",
      "[  0  50 170 255]\n",
      "[  0  50 170 255]\n",
      "[  0  50 170 255]\n",
      "[  0  50 170 255]\n",
      "[  0  50 170 255]\n",
      "[  0  50 170 255]\n",
      "[  0  50 170 255]\n",
      "[  0  50 170 255]\n",
      "[  0  50 170 255]\n",
      "[  0  50 170 255]\n",
      "[  0  50 170 255]\n",
      "[  0  50 170 255]\n",
      "[  0  50 170 255]\n",
      "[  0  50 170 255]\n",
      "[  0  50 170 255]\n",
      "[  0  50 170 255]\n",
      "[  0  50 170 255]\n",
      "[  0  50 170 255]\n",
      "[  0  50 170 255]\n",
      "[  0  50 170 255]\n",
      "[  0  50 170 255]\n",
      "[  0  50 170 255]\n",
      "[  0  50 170 255]\n",
      "[  0  50 170 255]\n",
      "[  0  50 170 255]\n",
      "[  0  50 170 255]\n",
      "[  0  50 170 255]\n",
      "[  0  50 170 255]\n",
      "[  0  50 170 255]\n",
      "[  0  50 170 255]\n",
      "[  0  50 170 255]\n",
      "[  0  50 170 255]\n",
      "[  0  50 170 255]\n",
      "[  0  50 170 255]\n",
      "[  0  50 170 255]\n",
      "[  0  50 170 255]\n",
      "[  0  50 170 255]\n",
      "[  0  50 170 255]\n",
      "[  0  50 170 255]\n",
      "[  0  50 170 255]\n",
      "[  0  50 170 255]\n",
      "[  0  50 170 255]\n",
      "[  0  50 170 255]\n",
      "[  0  50 170 255]\n",
      "[  0  50 170 255]\n",
      "[  0  50 170 255]\n",
      "[  0  50 170 255]\n",
      "[  0  50 170 255]\n",
      "[  0  50 170 255]\n",
      "[  0  50 170 255]\n",
      "[  0  50 170 255]\n",
      "[  0  50 170 255]\n",
      "[  0  50 170 255]\n",
      "[  0  50 170 255]\n",
      "[  0  50 170 255]\n",
      "[  0  50 170 255]\n",
      "[  0  50 170 255]\n",
      "[  0  50 170 255]\n",
      "[  0  50 170 255]\n",
      "[  0  50 170 255]\n",
      "[  0  50 170 255]\n",
      "[  0  50 170 255]\n",
      "[  0  50 170 255]\n",
      "[  0  50 170 255]\n",
      "[  0  50 170 255]\n",
      "[  0  50 170 255]\n",
      "[  0  50 170 255]\n",
      "[  0  50 170 255]\n",
      "[  0  50 170 255]\n",
      "[  0  50 170 255]\n",
      "[  0  50 170 255]\n",
      "[  0  50 170 255]\n",
      "[  0  50 170 255]\n",
      "[  0  50 170 255]\n",
      "[  0  50 170 255]\n",
      "[  0  50 170 255]\n",
      "[  0  50 170 255]\n",
      "[  0  50 170 255]\n",
      "[  0  50 170 255]\n",
      "[  0  50 170 255]\n",
      "[  0  50 170 255]\n",
      "[  0  50 170 255]\n",
      "[  0  50 170 255]\n",
      "[  0  50 170 255]\n",
      "[  0  50 170 255]\n",
      "[  0  50 170 255]\n",
      "[  0  50 170 255]\n",
      "[  0  50 170 255]\n",
      "[  0  50 170 255]\n",
      "[  0  50 170 255]\n",
      "[  0  50 170 255]\n",
      "[  0  50 170 255]\n",
      "[  0  50 170 255]\n",
      "[  0  50 170 255]\n",
      "[  0  50 170 255]\n",
      "[  0  50 170 255]\n",
      "[  0  50 170 255]\n",
      "[  0  50 170 255]\n",
      "[  0  50 170 255]\n",
      "[  0  50 170 255]\n",
      "[  0  50 170 255]\n",
      "[  0  50 170 255]\n",
      "[  0  50 170 255]\n",
      "[  0  50 170 255]\n",
      "[  0  50 170 255]\n",
      "[  0  50 170 255]\n",
      "[  0 170 255]\n",
      "[  0  50 170 255]\n",
      "[  0  50 170 255]\n",
      "[  0  50 170 255]\n",
      "[  0  50 170 255]\n",
      "[  0  50 170 255]\n",
      "[  0  50 170 255]\n",
      "[  0  50 170 255]\n",
      "[  0  50 170 255]\n",
      "[  0  50 170 255]\n",
      "[  0  50 170 255]\n",
      "[  0  50 170 255]\n",
      "[  0  50 170 255]\n",
      "[  0  50 170 255]\n"
     ]
    },
    {
     "name": "stdout",
     "output_type": "stream",
     "text": [
      "[  0  50 170 255]\n",
      "[  0  50 170 255]\n",
      "[  0  50 170 255]\n",
      "[  0  50 170 255]\n",
      "[  0  50 170 255]\n",
      "[  0  50 170 255]\n",
      "[  0  50 170 255]\n",
      "[  0  50 170 255]\n",
      "[  0  50 170 255]\n",
      "[  0  50 170 255]\n",
      "[  0  50 170 255]\n",
      "[  0  50 170 255]\n",
      "[  0  50 170 255]\n",
      "[  0  50 170 255]\n",
      "[  0  50 170 255]\n",
      "[  0  50 170 255]\n",
      "[  0  50 170 255]\n",
      "[  0  50 170 255]\n",
      "[  0  50 170 255]\n",
      "[  0  50 170 255]\n",
      "[  0  50 170 255]\n",
      "[  0  50 170 255]\n",
      "[  0  50 170 255]\n",
      "[  0  50 170 255]\n",
      "[  0  50 170 255]\n",
      "[  0  50 170 255]\n",
      "[  0  50 170 255]\n",
      "[  0  50 170 255]\n",
      "[  0  50 170 255]\n",
      "[  0  50 170 255]\n",
      "[  0  50 170 255]\n",
      "[  0  50 170 255]\n",
      "[  0  50 170 255]\n",
      "[  0  50 170 255]\n",
      "[  0  50 170 255]\n",
      "[  0  50 170 255]\n",
      "[  0  50 170 255]\n",
      "[  0  50 170 255]\n",
      "[  0  50 170 255]\n",
      "[  0  50 170 255]\n",
      "[  0  50 170 255]\n",
      "[  0  50 170 255]\n",
      "[  0  50 170 255]\n",
      "[  0  50 170 255]\n",
      "[  0  50 170 255]\n",
      "[  0  50 170 255]\n",
      "[  0  50 170 255]\n",
      "[  0  50 170 255]\n",
      "[  0  50 170 255]\n",
      "[  0  50 170 255]\n",
      "[  0  50 170 255]\n",
      "[  0  50 170 255]\n",
      "[  0  50 170 255]\n",
      "[  0  50 170 255]\n",
      "[  0  50 170 255]\n",
      "[  0  50 170 255]\n",
      "[  0  50 170 255]\n",
      "[  0  50 170 255]\n",
      "[  0  50 170 255]\n",
      "[  0  50 170 255]\n",
      "[  0  50 170 255]\n",
      "[  0  50 170 255]\n",
      "[  0  50 170 255]\n",
      "[  0  50 170 255]\n",
      "[  0  50 170 255]\n",
      "[  0  50 170 255]\n",
      "[  0  50 170 255]\n",
      "[  0  50 170 255]\n",
      "[  0  50 170 255]\n",
      "[  0  50 170 255]\n",
      "[  0  50 170 255]\n",
      "[  0  50 170 255]\n",
      "[  0  50 170 255]\n",
      "[  0  50 170 255]\n",
      "[  0  50 170 255]\n",
      "[  0  50 170 255]\n",
      "[  0  50 170 255]\n",
      "[  0  50 170 255]\n",
      "[  0  50 170 255]\n",
      "[  0  50 170 255]\n",
      "[  0  50 170 255]\n",
      "[  0  50 170 255]\n",
      "[  0  50 170 255]\n",
      "[  0  50 170 255]\n",
      "[  0  50 170 255]\n",
      "[  0  50 170 255]\n",
      "[  0  50 170 255]\n",
      "[  0  50 170 255]\n",
      "[  0  50 170 255]\n",
      "[  0  50 170 255]\n",
      "[  0  50 170 255]\n",
      "[  0  50 170 255]\n",
      "[  0  50 170 255]\n",
      "[  0  50 170 255]\n",
      "[  0  50 170 255]\n",
      "[  0  50 170 255]\n",
      "[  0  50 170 255]\n",
      "[  0  50 170 255]\n",
      "[  0  50 170 255]\n",
      "[  0  50 170 255]\n",
      "[  0  50 170 255]\n",
      "[  0  50 170 255]\n",
      "[  0  50 170 255]\n",
      "[  0  50 170 255]\n",
      "[  0  50 170 255]\n",
      "[  0  50 170 255]\n",
      "[  0  50 170 255]\n",
      "[  0  50 170 255]\n",
      "[  0  50 170 255]\n",
      "[  0  50 170 255]\n",
      "[  0  50 170 255]\n",
      "[  0  50 170 255]\n",
      "[  0  50 170 255]\n",
      "[  0  50 170 255]\n",
      "[  0  50 170 255]\n",
      "[  0  50 170 255]\n",
      "[  0  50 170 255]\n",
      "[  0  50 170 255]\n",
      "[  0  50 170 255]\n",
      "[  0  50 170 255]\n",
      "[  0  50 170 255]\n",
      "[  0  50 170 255]\n",
      "[  0  50 170 255]\n",
      "[  0  50 170 255]\n",
      "[  0  50 170 255]\n",
      "[  0  50 170 255]\n",
      "[  0  50 170 255]\n",
      "[  0  50 170 255]\n",
      "[  0  50 170 255]\n",
      "[  0  50 170 255]\n",
      "[  0  50 170 255]\n",
      "[  0  50 170 255]\n",
      "[  0  50 170 255]\n",
      "[  0  50 170 255]\n",
      "[  0  50 170 255]\n",
      "[  0  50 170 255]\n"
     ]
    }
   ],
   "source": [
    "pixels = 0\n",
    "for i in range(469,len(gt_result)):\n",
    "    gt_result[i] = cv2.cvtColor(gt_result[i], cv2.COLOR_BGR2GRAY)\n",
    "    print(np.unique(gt_result[i]))"
   ]
  },
  {
   "cell_type": "code",
   "execution_count": 52,
   "metadata": {},
   "outputs": [
    {
     "data": {
      "text/plain": [
       "94540800"
      ]
     },
     "execution_count": 52,
     "metadata": {},
     "output_type": "execute_result"
    }
   ],
   "source": [
    "pixels"
   ]
  },
  {
   "cell_type": "code",
   "execution_count": 94,
   "metadata": {},
   "outputs": [
    {
     "name": "stderr",
     "output_type": "stream",
     "text": [
      "Loading images: 100%|████████████████████████████████████████████████████████████| 1700/1700 [00:00<00:00, 1703.61it/s]\n"
     ]
    }
   ],
   "source": [
    "mog_result = loadImages(MOG2_highway_path+'*.png')"
   ]
  },
  {
   "cell_type": "code",
   "execution_count": 102,
   "metadata": {},
   "outputs": [
    {
     "data": {
      "text/plain": [
       "(240, 320, 3)"
      ]
     },
     "execution_count": 102,
     "metadata": {},
     "output_type": "execute_result"
    }
   ],
   "source": [
    "mog_result[469].shape"
   ]
  },
  {
   "cell_type": "code",
   "execution_count": 104,
   "metadata": {},
   "outputs": [
    {
     "name": "stderr",
     "output_type": "stream",
     "text": [
      "Loading images: 100%|████████████████████████████████████████████████████████████| 1700/1700 [00:01<00:00, 1313.18it/s]\n"
     ]
    }
   ],
   "source": [
    "ef_result = loadImages(expFilter_highway_path+'*.png')"
   ]
  },
  {
   "cell_type": "code",
   "execution_count": 107,
   "metadata": {},
   "outputs": [],
   "source": [
    "ef_result[469] = cv2.cvtColor(ef_result[469], cv2.COLOR_BGR2GRAY)"
   ]
  },
  {
   "cell_type": "code",
   "execution_count": 108,
   "metadata": {
    "scrolled": true
   },
   "outputs": [
    {
     "data": {
      "text/plain": [
       "array([[  0,   0,   1, ..., 254,   3,   0],\n",
       "       [  2,   0,   0, ..., 255,   0,   0],\n",
       "       [254, 255,   0, ...,   0,   2,   1],\n",
       "       ...,\n",
       "       [  2,   0,   2, ...,   0,   0,   0],\n",
       "       [  1,   0,   0, ...,   0,   1,   1],\n",
       "       [  0,   1,   0, ...,   1,   1,   0]], dtype=uint8)"
      ]
     },
     "execution_count": 108,
     "metadata": {},
     "output_type": "execute_result"
    }
   ],
   "source": [
    "ef_result[469]"
   ]
  },
  {
   "cell_type": "code",
   "execution_count": 54,
   "metadata": {},
   "outputs": [
    {
     "data": {
      "text/html": [
       "<div>\n",
       "<style scoped>\n",
       "    .dataframe tbody tr th:only-of-type {\n",
       "        vertical-align: middle;\n",
       "    }\n",
       "\n",
       "    .dataframe tbody tr th {\n",
       "        vertical-align: top;\n",
       "    }\n",
       "\n",
       "    .dataframe thead th {\n",
       "        text-align: right;\n",
       "    }\n",
       "</style>\n",
       "<table border=\"1\" class=\"dataframe\">\n",
       "  <thead>\n",
       "    <tr style=\"text-align: right;\">\n",
       "      <th></th>\n",
       "      <th>Recall</th>\n",
       "      <th>Precision</th>\n",
       "      <th>F-measure</th>\n",
       "      <th>TP</th>\n",
       "      <th>FP</th>\n",
       "      <th>FN</th>\n",
       "      <th>TN</th>\n",
       "    </tr>\n",
       "    <tr>\n",
       "      <th>Algorithm</th>\n",
       "      <th></th>\n",
       "      <th></th>\n",
       "      <th></th>\n",
       "      <th></th>\n",
       "      <th></th>\n",
       "      <th></th>\n",
       "      <th></th>\n",
       "    </tr>\n",
       "  </thead>\n",
       "  <tbody>\n",
       "    <tr>\n",
       "      <th>Exponential Filter</th>\n",
       "      <td>0.590599</td>\n",
       "      <td>0.434918</td>\n",
       "      <td>0.500942</td>\n",
       "      <td>4165508.0</td>\n",
       "      <td>5412167.0</td>\n",
       "      <td>2887516.0</td>\n",
       "      <td>81998809.0</td>\n",
       "    </tr>\n",
       "    <tr>\n",
       "      <th>MOG</th>\n",
       "      <td>0.500938</td>\n",
       "      <td>0.967187</td>\n",
       "      <td>0.660027</td>\n",
       "      <td>3156445.0</td>\n",
       "      <td>107085.0</td>\n",
       "      <td>3144618.0</td>\n",
       "      <td>88055852.0</td>\n",
       "    </tr>\n",
       "    <tr>\n",
       "      <th>MOG2</th>\n",
       "      <td>0.933806</td>\n",
       "      <td>0.774233</td>\n",
       "      <td>0.846565</td>\n",
       "      <td>6843616.0</td>\n",
       "      <td>1995606.0</td>\n",
       "      <td>485117.0</td>\n",
       "      <td>85139661.0</td>\n",
       "    </tr>\n",
       "    <tr>\n",
       "      <th>Ground truth</th>\n",
       "      <td>1.000000</td>\n",
       "      <td>1.000000</td>\n",
       "      <td>1.000000</td>\n",
       "      <td>5448641.0</td>\n",
       "      <td>0.0</td>\n",
       "      <td>0.0</td>\n",
       "      <td>86228220.0</td>\n",
       "    </tr>\n",
       "  </tbody>\n",
       "</table>\n",
       "</div>"
      ],
      "text/plain": [
       "                      Recall  Precision  F-measure         TP         FP  \\\n",
       "Algorithm                                                                  \n",
       "Exponential Filter  0.590599   0.434918   0.500942  4165508.0  5412167.0   \n",
       "MOG                 0.500938   0.967187   0.660027  3156445.0   107085.0   \n",
       "MOG2                0.933806   0.774233   0.846565  6843616.0  1995606.0   \n",
       "Ground truth        1.000000   1.000000   1.000000  5448641.0        0.0   \n",
       "\n",
       "                           FN          TN  \n",
       "Algorithm                                  \n",
       "Exponential Filter  2887516.0  81998809.0  \n",
       "MOG                 3144618.0  88055852.0  \n",
       "MOG2                 485117.0  85139661.0  \n",
       "Ground truth              0.0  86228220.0  "
      ]
     },
     "execution_count": 54,
     "metadata": {},
     "output_type": "execute_result"
    }
   ],
   "source": [
    "df_highway = pd.DataFrame(np.array([np.concatenate((r_p_fm_secuencia_EF,cm_secuencia_EF)),\n",
    "                                    np.concatenate((r_p_fm_secuencia_MOG,cm_secuencia_MOG)),\n",
    "                                    np.concatenate((r_p_fm_secuencia_MOG2,cm_secuencia_MOG2)),\n",
    "                                    np.concatenate((r_p_fm_secuencia_gt,cm_secuencia_gt))]),\n",
    "                         columns = ['Recall', 'Precision','F-measure','TP','FP','FN','TN'])\n",
    "df_highway['Algorithm'] = ['Exponential Filter','MOG','MOG2','Ground truth']\n",
    "df_highway.set_index('Algorithm')"
   ]
  },
  {
   "cell_type": "code",
   "execution_count": 49,
   "metadata": {},
   "outputs": [
    {
     "data": {
      "text/plain": [
       "array([0.60293747, 0.5       , 0.54666514])"
      ]
     },
     "execution_count": 49,
     "metadata": {},
     "output_type": "execute_result"
    }
   ],
   "source": [
    "r_p_fm_secuencia_EF"
   ]
  },
  {
   "cell_type": "code",
   "execution_count": 71,
   "metadata": {
    "scrolled": true
   },
   "outputs": [
    {
     "data": {
      "text/html": [
       "<div>\n",
       "<style scoped>\n",
       "    .dataframe tbody tr th:only-of-type {\n",
       "        vertical-align: middle;\n",
       "    }\n",
       "\n",
       "    .dataframe tbody tr th {\n",
       "        vertical-align: top;\n",
       "    }\n",
       "\n",
       "    .dataframe thead th {\n",
       "        text-align: right;\n",
       "    }\n",
       "</style>\n",
       "<table border=\"1\" class=\"dataframe\">\n",
       "  <thead>\n",
       "    <tr style=\"text-align: right;\">\n",
       "      <th></th>\n",
       "      <th>Recall</th>\n",
       "      <th>Precision</th>\n",
       "      <th>F-measure</th>\n",
       "      <th>Algorithm</th>\n",
       "    </tr>\n",
       "  </thead>\n",
       "  <tbody>\n",
       "    <tr>\n",
       "      <th>0</th>\n",
       "      <td>0.602937</td>\n",
       "      <td>0.5</td>\n",
       "      <td>0.546665</td>\n",
       "      <td>Exponential Filter</td>\n",
       "    </tr>\n",
       "    <tr>\n",
       "      <th>1</th>\n",
       "      <td>0.502348</td>\n",
       "      <td>0.5</td>\n",
       "      <td>0.501171</td>\n",
       "      <td>MOG</td>\n",
       "    </tr>\n",
       "    <tr>\n",
       "      <th>2</th>\n",
       "      <td>0.929137</td>\n",
       "      <td>0.5</td>\n",
       "      <td>0.650138</td>\n",
       "      <td>MOG2</td>\n",
       "    </tr>\n",
       "  </tbody>\n",
       "</table>\n",
       "</div>"
      ],
      "text/plain": [
       "     Recall  Precision  F-measure           Algorithm\n",
       "0  0.602937        0.5   0.546665  Exponential Filter\n",
       "1  0.502348        0.5   0.501171                 MOG\n",
       "2  0.929137        0.5   0.650138                MOG2"
      ]
     },
     "execution_count": 71,
     "metadata": {},
     "output_type": "execute_result"
    }
   ],
   "source": [
    "df_highway"
   ]
  },
  {
   "cell_type": "code",
   "execution_count": 45,
   "metadata": {},
   "outputs": [
    {
     "data": {
      "text/html": [
       "<div>\n",
       "<style scoped>\n",
       "    .dataframe tbody tr th:only-of-type {\n",
       "        vertical-align: middle;\n",
       "    }\n",
       "\n",
       "    .dataframe tbody tr th {\n",
       "        vertical-align: top;\n",
       "    }\n",
       "\n",
       "    .dataframe thead th {\n",
       "        text-align: right;\n",
       "    }\n",
       "</style>\n",
       "<table border=\"1\" class=\"dataframe\">\n",
       "  <thead>\n",
       "    <tr style=\"text-align: right;\">\n",
       "      <th></th>\n",
       "      <th>a</th>\n",
       "      <th>b</th>\n",
       "      <th>c</th>\n",
       "    </tr>\n",
       "  </thead>\n",
       "  <tbody>\n",
       "    <tr>\n",
       "      <th>0</th>\n",
       "      <td>1</td>\n",
       "      <td>2</td>\n",
       "      <td>3</td>\n",
       "    </tr>\n",
       "    <tr>\n",
       "      <th>1</th>\n",
       "      <td>4</td>\n",
       "      <td>5</td>\n",
       "      <td>6</td>\n",
       "    </tr>\n",
       "    <tr>\n",
       "      <th>2</th>\n",
       "      <td>7</td>\n",
       "      <td>8</td>\n",
       "      <td>9</td>\n",
       "    </tr>\n",
       "    <tr>\n",
       "      <th>3</th>\n",
       "      <td>10</td>\n",
       "      <td>11</td>\n",
       "      <td>12</td>\n",
       "    </tr>\n",
       "  </tbody>\n",
       "</table>\n",
       "</div>"
      ],
      "text/plain": [
       "    a   b   c\n",
       "0   1   2   3\n",
       "1   4   5   6\n",
       "2   7   8   9\n",
       "3  10  11  12"
      ]
     },
     "execution_count": 45,
     "metadata": {},
     "output_type": "execute_result"
    }
   ],
   "source": [
    "df2 = pd.DataFrame(np.array([[1, 2, 3], [4, 5, 6], [7, 8, 9],[10,11,12]]),\n",
    "                   columns=['a', 'b', 'c'])\n",
    "df2"
   ]
  },
  {
   "cell_type": "markdown",
   "metadata": {},
   "source": [
    "# 2. Secuencia _badminton_ del dataset _cameraJitter_"
   ]
  },
  {
   "cell_type": "markdown",
   "metadata": {},
   "source": [
    "Cargamos las imágenes de entrada y el ground truth con el que se calcularán las métricas."
   ]
  },
  {
   "cell_type": "code",
   "execution_count": 26,
   "metadata": {},
   "outputs": [
    {
     "name": "stderr",
     "output_type": "stream",
     "text": [
      "Loading images: 100%|█████████████████████████████████████████████████████████████| 1150/1150 [00:03<00:00, 296.71it/s]\n",
      "Loading images: 100%|█████████████████████████████████████████████████████████████| 1150/1150 [00:08<00:00, 129.45it/s]\n"
     ]
    }
   ],
   "source": [
    "#camaraJitter  badminton dataset input\n",
    "gt_badminton_path = 'DATA/cameraJitter/cameraJitter/badminton/groundtruth/*.png'\n",
    "in_badminton_path = 'DATA/cameraJitter/cameraJitter/badminton/input/*.jpg'\n",
    "\n",
    "groundTruth = loadImages(gt_badminton_path)\n",
    "frames = loadImages(in_badminton_path)"
   ]
  },
  {
   "cell_type": "markdown",
   "metadata": {},
   "source": [
    "## 2.1. Algoritmo filtro exponencial"
   ]
  },
  {
   "cell_type": "code",
   "execution_count": null,
   "metadata": {},
   "outputs": [],
   "source": [
    "# camaraJitter badminton dataset output path\n",
    "expFilter_badminton_path = 'DATA/cameraJitter/results/badminton/expFilter/'\n"
   ]
  },
  {
   "cell_type": "markdown",
   "metadata": {},
   "source": [
    "### 2.1.1. Cálculo de métricas"
   ]
  },
  {
   "cell_type": "code",
   "execution_count": null,
   "metadata": {},
   "outputs": [],
   "source": [
    "cm_frames_EF,\\\n",
    "cm_secuencia_EF,\\\n",
    "r_p_fm_frames_EF,\\\n",
    "r_p_fm_secuencia_EF = all_metrics (expFilter_badminton_path+'*.jpg', gt_badminton_path, start_frame=800, end_frame=1150)"
   ]
  },
  {
   "cell_type": "markdown",
   "metadata": {},
   "source": [
    "## 2.2. Algoritmo MOG"
   ]
  },
  {
   "cell_type": "code",
   "execution_count": null,
   "metadata": {},
   "outputs": [],
   "source": [
    "# camaraJitter badminton dataset output paths\n",
    "MOG_badminton_path = 'DATA/cameraJitter/results/badminton/MOG/'"
   ]
  },
  {
   "cell_type": "markdown",
   "metadata": {},
   "source": [
    "### 2.2.1. Cálculo de métricas"
   ]
  },
  {
   "cell_type": "code",
   "execution_count": null,
   "metadata": {},
   "outputs": [],
   "source": [
    "cm_frames_MOG,\\\n",
    "cm_secuencia_MOG,\\\n",
    "r_p_fm_frames_MOG,\\\n",
    "r_p_fm_secuencia_MOG = all_metrics (MOG_badminton_path+'*.jpg', gt_badminton_path, start_frame=800, end_frame=1150)"
   ]
  },
  {
   "cell_type": "markdown",
   "metadata": {},
   "source": [
    "## 2.3. Algoritmo MOG2"
   ]
  },
  {
   "cell_type": "code",
   "execution_count": null,
   "metadata": {},
   "outputs": [],
   "source": [
    "# camaraJitter badminton dataset output paths\n",
    "MOG2_badminton_path = 'DATA/cameraJitter/results/badminton/MOG2'"
   ]
  },
  {
   "cell_type": "markdown",
   "metadata": {},
   "source": [
    "### 2.3.1. Cálculo de métricas"
   ]
  },
  {
   "cell_type": "code",
   "execution_count": null,
   "metadata": {},
   "outputs": [],
   "source": [
    "cm_frames_MOG2,\\\n",
    "cm_secuencia_MOG2,\\\n",
    "r_p_fm_frames_MOG2,\\\n",
    "r_p_fm_secuencia_MOG2 = all_metrics (MOG2_badminton_path+'*.jpg', gt_badminton_path, start_frame=800, end_frame=1150)"
   ]
  },
  {
   "cell_type": "markdown",
   "metadata": {},
   "source": [
    "## Comparación resultados"
   ]
  },
  {
   "cell_type": "markdown",
   "metadata": {},
   "source": [
    "# 3. Secuencia _canoe_ del dataset _dynamicBackground_"
   ]
  },
  {
   "cell_type": "code",
   "execution_count": null,
   "metadata": {},
   "outputs": [],
   "source": [
    "Cargamos las imágenes de entrada y el ground truth con el que se calcularán las métricas."
   ]
  },
  {
   "cell_type": "code",
   "execution_count": null,
   "metadata": {},
   "outputs": [],
   "source": [
    "# dynamicBackground  canoe dataset input\n",
    "gt_canoe_path = 'DATA/dynamicBackground/dynamicBackground/canoe/groundtruth/*.png'\n",
    "in_canoe_path = 'DATA/dynamicBackground/dynamicBackground/canoe/input/*.jpg'\n",
    "\n",
    "groundTruth = loadImages(gt_canoe_path)\n",
    "frames = loadImages(in_canoe_path)"
   ]
  },
  {
   "cell_type": "code",
   "execution_count": null,
   "metadata": {},
   "outputs": [],
   "source": [
    "# dynamicBackground canoe dataset output path\n",
    "expFilter_canoe_path = 'DATA/dynamicBackground/results/canoe/expFilter/'\n",
    "MOG_canoe_path = 'DATA/dynamicBackground/results/canoe/MOG/'\n",
    "MOG2_canoe_path = 'DATA/dynamicBackground/results/canoe/MOG2'"
   ]
  },
  {
   "cell_type": "markdown",
   "metadata": {},
   "source": [
    "## 3.1. Algoritmo filtro exponencial"
   ]
  },
  {
   "cell_type": "code",
   "execution_count": null,
   "metadata": {},
   "outputs": [],
   "source": [
    "# dynamicBackground canoe dataset output paths\n",
    "expFilter_canoe_path = 'DATA/dynamicBackground/results/canoe/expFilter/'"
   ]
  },
  {
   "cell_type": "markdown",
   "metadata": {},
   "source": [
    "### 3.1.1 Cálculo de métricas"
   ]
  },
  {
   "cell_type": "code",
   "execution_count": null,
   "metadata": {},
   "outputs": [],
   "source": [
    "cm_frames_EF,\\\n",
    "cm_secuencia_EF,\\\n",
    "r_p_fm_frames_EF,\\\n",
    "r_p_fm_secuencia_RF = all_metrics (expFilter_canoe_path+'*.jpg', gt_canoe_path, start_frame=469, end_frame=1699)"
   ]
  },
  {
   "cell_type": "markdown",
   "metadata": {},
   "source": [
    "## 3.2. Algoritmo MOG"
   ]
  },
  {
   "cell_type": "code",
   "execution_count": null,
   "metadata": {},
   "outputs": [],
   "source": [
    "# dynamicBackground canoe dataset output path\n",
    "MOG_canoe_path = 'DATA/dynamicBackground/results/canoe/MOG/'"
   ]
  },
  {
   "cell_type": "markdown",
   "metadata": {},
   "source": [
    "### 3.2.1 Cálculo de métricas"
   ]
  },
  {
   "cell_type": "code",
   "execution_count": null,
   "metadata": {},
   "outputs": [],
   "source": [
    "cm_frames_EF,\\\n",
    "cm_secuencia_EF,\\\n",
    "r_p_fm_frames_EF,\\\n",
    "r_p_fm_secuencia_RF = all_metrics (MOG_canoe_path+'*.jpg', gt_canoe_path, start_frame=469, end_frame=1699)"
   ]
  },
  {
   "cell_type": "markdown",
   "metadata": {},
   "source": [
    "## 3.3. Algoritmo MOG2"
   ]
  },
  {
   "cell_type": "code",
   "execution_count": null,
   "metadata": {},
   "outputs": [],
   "source": [
    "# dynamicBackground canoe dataset output path\n",
    "MOG2_canoe_path = 'DATA/dynamicBackground/results/canoe/MOG2'"
   ]
  },
  {
   "cell_type": "markdown",
   "metadata": {},
   "source": [
    "### 3.3.1. Cálculo de métricas"
   ]
  },
  {
   "cell_type": "code",
   "execution_count": null,
   "metadata": {},
   "outputs": [],
   "source": [
    "cm_frames_EF,\\\n",
    "cm_secuencia_EF,\\\n",
    "r_p_fm_frames_EF,\\\n",
    "r_p_fm_secuencia_RF = all_metrics (MOG2_canoe_path+'*.jpg', gt_canoe_path, start_frame=469, end_frame=1699)"
   ]
  },
  {
   "cell_type": "markdown",
   "metadata": {},
   "source": [
    "## 3.4. Comparación resultados"
   ]
  },
  {
   "cell_type": "markdown",
   "metadata": {},
   "source": [
    "# 4. Secuencia _sofa_ del dataset _intermittentObjectMotion_"
   ]
  },
  {
   "cell_type": "code",
   "execution_count": null,
   "metadata": {},
   "outputs": [],
   "source": [
    "Cargamos las imágenes de entrada y el ground truth con el que se calcularán las métricas."
   ]
  },
  {
   "cell_type": "code",
   "execution_count": null,
   "metadata": {},
   "outputs": [],
   "source": [
    "# intermittentObjectMotion sofa dataset input\n",
    "gt_sofa_path = 'DATA/intermittentObjectMotion/intermittentObjectMotion/sofa/groundtruth/*.png'\n",
    "in_sofa_path = 'DATA/intermittentObjectMotion/intermittentObjectMotion/sofa/input/*.jpg'\n",
    "\n",
    "groundTruth = loadImages(gt_sofa_path)\n",
    "frames = loadImages(in_sofa_path)"
   ]
  },
  {
   "cell_type": "markdown",
   "metadata": {},
   "source": [
    "## 4.1. Algoritmo filtro exponencial"
   ]
  },
  {
   "cell_type": "markdown",
   "metadata": {},
   "source": [
    "### 4.1.1. Cálculo de métricas"
   ]
  },
  {
   "cell_type": "code",
   "execution_count": null,
   "metadata": {},
   "outputs": [],
   "source": [
    "cm_frames_EF,\\\n",
    "cm_secuencia_EF,\\\n",
    "r_p_fm_frames_EF,\\\n",
    "r_p_fm_secuencia_RF = all_metrics (expFilter_highway_path+'*.jpg', gt_highway_path, start_frame=469, end_frame=1699)"
   ]
  },
  {
   "cell_type": "markdown",
   "metadata": {},
   "source": [
    "## 4.2. Algoritmo MOG"
   ]
  },
  {
   "cell_type": "markdown",
   "metadata": {},
   "source": [
    "### 4.2.1. Cálculo de métricas"
   ]
  },
  {
   "cell_type": "code",
   "execution_count": null,
   "metadata": {},
   "outputs": [],
   "source": [
    "cm_frames_EF,\\\n",
    "cm_secuencia_EF,\\\n",
    "r_p_fm_frames_EF,\\\n",
    "r_p_fm_secuencia_RF = all_metrics (expFilter_highway_path+'*.jpg', gt_highway_path, start_frame=469, end_frame=1699)"
   ]
  },
  {
   "cell_type": "markdown",
   "metadata": {},
   "source": [
    "## 4.3. Algoritmo MOG2"
   ]
  },
  {
   "cell_type": "markdown",
   "metadata": {},
   "source": [
    "### 4.3.1. Cálculo de métricas"
   ]
  },
  {
   "cell_type": "code",
   "execution_count": null,
   "metadata": {},
   "outputs": [],
   "source": [
    "cm_frames_EF,\\\n",
    "cm_secuencia_EF,\\\n",
    "r_p_fm_frames_EF,\\\n",
    "r_p_fm_secuencia_RF = all_metrics (expFilter_highway_path+'*.jpg', gt_highway_path, start_frame=469, end_frame=1699)"
   ]
  },
  {
   "cell_type": "markdown",
   "metadata": {},
   "source": [
    "## 4.4. Comparación resultados"
   ]
  },
  {
   "cell_type": "markdown",
   "metadata": {},
   "source": [
    "# 5. Secuencia _copyMachine_ del dataset _shadow_"
   ]
  },
  {
   "cell_type": "code",
   "execution_count": null,
   "metadata": {},
   "outputs": [],
   "source": [
    "Cargamos las imágenes de entrada y el ground truth con el que se calcularán las métricas."
   ]
  },
  {
   "cell_type": "code",
   "execution_count": null,
   "metadata": {},
   "outputs": [],
   "source": [
    "# shadow copyMachine dataset input\n",
    "gt_copyMachine_path = 'DATA/shadow/shadow/copyMachine/groundtruth/*.png'\n",
    "in_copyMachine_path = 'DATA/shadow/shadow/copyMachine/input/*.jpg'\n",
    "\n",
    "groundTruth = loadImages(gt_copyMachine_path)\n",
    "frames = loadImages(in_copyMachine_path)"
   ]
  },
  {
   "cell_type": "markdown",
   "metadata": {},
   "source": [
    "## 5.1. Algoritmo filtro exponencial"
   ]
  },
  {
   "cell_type": "markdown",
   "metadata": {},
   "source": [
    "### 5.1.1. Cálculo de métricas"
   ]
  },
  {
   "cell_type": "code",
   "execution_count": null,
   "metadata": {},
   "outputs": [],
   "source": [
    "cm_frames_EF,\\\n",
    "cm_secuencia_EF,\\\n",
    "r_p_fm_frames_EF,\\\n",
    "r_p_fm_secuencia_RF = all_metrics (expFilter_highway_path+'*.jpg', gt_highway_path, start_frame=469, end_frame=1699)"
   ]
  },
  {
   "cell_type": "markdown",
   "metadata": {},
   "source": [
    "## 5.2. Algoritmo MOG"
   ]
  },
  {
   "cell_type": "markdown",
   "metadata": {},
   "source": [
    "### 5.2.1. Cálculo de métricas"
   ]
  },
  {
   "cell_type": "code",
   "execution_count": null,
   "metadata": {},
   "outputs": [],
   "source": [
    "cm_frames_EF,\\\n",
    "cm_secuencia_EF,\\\n",
    "r_p_fm_frames_EF,\\\n",
    "r_p_fm_secuencia_RF = all_metrics (expFilter_highway_path+'*.jpg', gt_highway_path, start_frame=469, end_frame=1699)"
   ]
  },
  {
   "cell_type": "markdown",
   "metadata": {},
   "source": [
    "## 5.3. Algoritmo MOG2"
   ]
  },
  {
   "cell_type": "markdown",
   "metadata": {},
   "source": [
    "### 5.3.1. Cálculo de métricas"
   ]
  },
  {
   "cell_type": "code",
   "execution_count": null,
   "metadata": {},
   "outputs": [],
   "source": [
    "cm_frames_EF,\\\n",
    "cm_secuencia_EF,\\\n",
    "r_p_fm_frames_EF,\\\n",
    "r_p_fm_secuencia_RF = all_metrics (expFilter_highway_path+'*.jpg', gt_highway_path, start_frame=469, end_frame=1699)"
   ]
  },
  {
   "cell_type": "markdown",
   "metadata": {},
   "source": [
    "## 5.4. Comparación resultados"
   ]
  }
 ],
 "metadata": {
  "kernelspec": {
   "display_name": "VPC Py38",
   "language": "python",
   "name": "visio_per_computador"
  },
  "language_info": {
   "codemirror_mode": {
    "name": "ipython",
    "version": 3
   },
   "file_extension": ".py",
   "mimetype": "text/x-python",
   "name": "python",
   "nbconvert_exporter": "python",
   "pygments_lexer": "ipython3",
   "version": "3.6.12"
  }
 },
 "nbformat": 4,
 "nbformat_minor": 1
}
