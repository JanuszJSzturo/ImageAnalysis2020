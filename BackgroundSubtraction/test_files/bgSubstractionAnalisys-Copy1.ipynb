{
 "cells": [
  {
   "cell_type": "markdown",
   "metadata": {},
   "source": [
    "# Práctica Background Subtraction\n",
    "\n",
    "En esta segunda práctica del bloque de análisis de secuencias haremos trabajo con 3 técnicas de background subtraction.\n",
    "\n",
    "En primer lugar debéis implementar vuestro propio método de eliminación de fondo basado en la idea que explicamos del filtro exponencial. Podéis hacer las adaptaciones que encontréis necesario a la idea general del método para mejorar su rendimiento.\n",
    "\n",
    "En segundo lugar debéis de usar las implementaciones del MOG y del MOG2 que se encuentran en la librería\n",
    " [OpenCV](https://opencv-python-tutroals.readthedocs.io/en/latest/py_tutorials/py_video/py_bg_subtraction/py_bg_subtraction.html).\n",
    "\n",
    "En tercer lugar lo que quiero es que hagáis una comparativa entre su método y los dos basados en Mixture de gausiano utilizando el dataset de la competición [changedetection.net](http://changedetection.net/) del año 2012.\n",
    "\n",
    "En concreto debe usar una secuencia de cada categoría exceptuando la de *Thermal*.\n",
    "\n",
    "Las métricas que a usar para cada secuencia son:\n",
    "\n",
    "* **TP** : True Positive\n",
    "* **FP** : False Positive\n",
    "* **FN** : False Negative\n",
    "* **TN** : True Negative\n",
    "* **Re (Recall)** : TP / (TP + FN)\n",
    "* **F-Measure** : (2 * Precision * Recall) / (Precision + Recall)\n",
    "* **Precision** : TP / (TP + FP)\n",
    "\n",
    "Finalmente se pide que hagáis un análisis de los resultados obtenidos por cada secuencia: problemas, carencias, puntos fuertes de los algoritmos ...\n",
    "\n",
    "**Entrega:**\n",
    "\n",
    "* Explicación del algoritmo implementado y código fuente.\n",
    "* Resultados de las secuencias en formato imagen o video.\n",
    "* Resultados de las secuencias en formato tabla resumen de las métricas.\n",
    "* Análisis de los resultados"
   ]
  },
  {
   "cell_type": "markdown",
   "metadata": {},
   "source": [
    "Secuencias a usar:\n",
    "- baseline: todo\n",
    "- cameraJitter: badminton, traffic\n",
    "- dynamicBackground: canoe, fall, fountain02\n",
    "- intermittentObjectMotion: sofa, \n",
    "- shadow: busStation, copyMachine, cubicle, peopleInShade"
   ]
  },
  {
   "cell_type": "markdown",
   "metadata": {},
   "source": [
    "### Métricas"
   ]
  },
  {
   "cell_type": "code",
   "execution_count": 1,
   "metadata": {},
   "outputs": [],
   "source": [
    "def recall(tp, fn):\n",
    "    return (tp/(tp+fn))\n",
    "\n",
    "def precision(tp, fp):\n",
    "    return (tp/(tp+fp))\n",
    "\n",
    "def f_measure(precision, recall):\n",
    "    return ((2*precision*recall)/(precision+recall))"
   ]
  },
  {
   "cell_type": "markdown",
   "metadata": {},
   "source": [
    "### Filtro exponencial para _background subtraction_\n",
    "Parte de la idea de eliminación de fondo más básica: restar el fotograman **_fondo_** (_background_) del fotograma actual para obtener el **_primer plano_** (_foreground_).  \n",
    "El primer problema o tarea para realizar este algoritmo es conseguir ese fotograma **_fondo_**. Para ello se necesita una imagen que represente el fondo sin ningún otro objeto, pero esto no siempre es posible, por lo tanto hay que buscar otras soluciones. Una de ellas es estimar el fondo como la media o la mediana a partir de los primeros _n_ fotogramas.  \n",
    "El segundo problema que surge es que el fondo en los casos prácticos varía con el tiempo y por lo tanto es posible que ese fotograma _fondo_ que hemos estimado no nos sirve más tarde. Por lo tanto la mejora que se propone es estimar el fondo recursivamente respecto el fotograma anterior siguiendo la siguiente fórmula: \n",
    "$$\n",
    "\\begin{align}\n",
    "B_t=(1-{\\alpha})B_{t-1}+{\\alpha}I_t\n",
    "\\end{align}\n",
    "$$\n",
    "Donde $B_t$ es la estimación del fondo para el fotograma actual, $B_{t-1}$ es el fondo para el fotograma anterior, $I_t$ es el fotograma actual y $\\alpha$ es el factor de aprendizaje que indica cuánto del fotograma actual se considerará fondo para el siguiente fotograma."
   ]
  },
  {
   "cell_type": "code",
   "execution_count": 2,
   "metadata": {},
   "outputs": [],
   "source": [
    "from utils import *\n",
    "from tqdm.notebook import tqdm\n",
    "import matplotlib.pyplot as plt"
   ]
  },
  {
   "cell_type": "markdown",
   "metadata": {},
   "source": [
    "Para mantener la limpieza del _notebook_ se han definidos las funciones para realizar el análisis dentro del archivo _utils.py_.  \n",
    "Las funciones que se encuentran son las siguientes:\n",
    "- **comparator**: compara un _frame_ resultante de un modelo de _background subtraction_ con el resultado esperado (_groundtruth_)\n",
    "- **loadImages**: devuelve una lista con las imágenes dentro de la carpeta especificada\n",
    "- **exponentialFilter**: implementación del algoritmo basado en filtro exponencial\n",
    "- **MOG**: implementación del algoritmo MOG disponible [aquí](https://opencv-python-tutroals.readthedocs.io/en/latest/py_tutorials/py_video/py_bg_subtraction/py_bg_subtraction.html)\n",
    "- **MOG2**: implementación del algoritmo MOG2 disponible [aquí](https://opencv-python-tutroals.readthedocs.io/en/latest/py_tutorials/py_video/py_bg_subtraction/py_bg_subtraction.html)\n",
    "- **im2vid**: genera video a partir de las imágenes ubicadas en una carpeta\n",
    "- **showVideo**: muestra el video en una ventana flotante para visualizar mejor el resultado del modelo\n",
    "\n",
    "Notar que, a pesar de tratarse de algoritmos que trabajan con video, el _dataset_ que se proporciona para realizar las pruebas son imágenes que representan los fotogramas de una secuencia. Por lo tanto, las funciones que se han realizado, se han pensado para trabajar con imágenes en vez de video."
   ]
  },
  {
   "cell_type": "markdown",
   "metadata": {},
   "source": [
    "Pasos a seguir para cada secuencia:\n",
    "1. Cargar las imágenes en una variable (path de las imágenes)\n",
    "2. Aplicar el filtro deseado EF, MOG y MOG2 (path donde se guardarán las imágenes aplicadas por el filtro)\n",
    "3. Obtener las métricas con comparator (hacer bucle a lo largo de las imágenes resultado -> path del groundtruth)\n",
    "4. Mostrar los resultados y videos\n",
    "5. Comparar los resultados (hacer gráfica a lo largo del"
   ]
  },
  {
   "cell_type": "code",
   "execution_count": 4,
   "metadata": {},
   "outputs": [],
   "source": [
    "# Path donde se guardarán los resultados de las diferentes secuencias\n",
    "# highway de baseline\n",
    "expFilter_highway_path = 'DATA/baseline/results/highway/expFilter/'\n",
    "MOG_highway_path = 'DATA/baseline/results/highway/MOG/'\n",
    "MOG2_highway_path = 'DATA/baseline/results/highway/MOG2/'\n",
    "\n",
    "# camaraJitter badminton dataset output paths\n",
    "expFilter_badminton_path = 'DATA/cameraJitter/results/badminton/expFilter/'\n",
    "MOG_badminton_path = 'DATA/cameraJitter/results/badminton/MOG/'\n",
    "MOG2_badminton_path = 'DATA/cameraJitter/results/badminton/MOG2'\n",
    "\n",
    "# dynamicBackground canoe dataset output paths\n",
    "expFilter_canoe_path = 'DATA/dynamicBackground/results/canoe/expFilter/'\n",
    "MOG_canoe_path = 'DATA/dynamicBackground/results/canoe/MOG/'\n",
    "MOG2_canoe_path = 'DATA/dynamicBackground/results/canoe/MOG2'\n",
    "\n",
    "# intermittentObject sofa dataset output paths\n",
    "expFilter_sofa_path = 'DATA/intermittentObjectMotion/results/sofa/expFilter/' \n",
    "MOG_sofa_path = 'DATA/intermittentObjectMotion/results/sofa/MOG'\n",
    "MOG2_sofa_path = 'DATA/intermittentObjectMotion/results/sofa/MOG2'\n",
    "\n",
    "# shadow copyMachine dataset output paths\n",
    "expFilter_copyMachine_path = 'DATA/shadow/results/copyMachine/expFilter/'\n",
    "MOG_copyMachine_path = 'DATA/shadow/results/copyMachine/MOG'\n",
    "MOG2_copyMachine_path = 'DATA/shadow/results/copyMachine/MOG2'"
   ]
  },
  {
   "cell_type": "markdown",
   "metadata": {},
   "source": [
    "# 1. Secuencia _highway_ del dataset _baseline_"
   ]
  },
  {
   "cell_type": "markdown",
   "metadata": {},
   "source": [
    "Cargamos las imágenes de entrada y el ground truth con el que se calcularán las métricas."
   ]
  },
  {
   "cell_type": "code",
   "execution_count": 5,
   "metadata": {},
   "outputs": [
    {
     "name": "stderr",
     "output_type": "stream",
     "text": [
      "Loading images: 100%|████████████████████████████████████████████████████████████| 1700/1700 [00:00<00:00, 2650.82it/s]\n",
      "Loading images: 100%|████████████████████████████████████████████████████████████| 1700/1700 [00:01<00:00, 1199.58it/s]\n"
     ]
    }
   ],
   "source": [
    "# baseline highway dataset input paths\n",
    "gt_highway_path = 'DATA/baseline/baseline/highway/groundtruth/*.png'\n",
    "in_highway_path = 'DATA/baseline/baseline/highway/input/*.jpg'\n",
    "\n",
    "groundTruth = loadImages(gt_highway_path)\n",
    "frames = loadImages(in_highway_path)"
   ]
  },
  {
   "cell_type": "markdown",
   "metadata": {},
   "source": [
    "## 1.1. Algoritmo filtro exponencial"
   ]
  },
  {
   "cell_type": "markdown",
   "metadata": {},
   "source": [
    "Aplicamos el algoritmo basado en el filtro exponencial que hemos implementado."
   ]
  },
  {
   "cell_type": "code",
   "execution_count": 6,
   "metadata": {
    "scrolled": true
   },
   "outputs": [
    {
     "name": "stderr",
     "output_type": "stream",
     "text": [
      "Algorithm application: 100%|██████████████████████████████████████████████████████| 1680/1680 [00:02<00:00, 683.27it/s]\n"
     ]
    }
   ],
   "source": [
    "# baseline highway dataset output path\n",
    "expFilter_highway_path = 'DATA/baseline/results/highway/expFilter/'\n",
    "\n",
    "exponentialFilter(frames, 0.3, expFilter_highway_path, 20, bgFilter ='MEDIAN')"
   ]
  },
  {
   "cell_type": "markdown",
   "metadata": {},
   "source": [
    "Convertimos la secuencia de imágenes en video para poder visualizar mejor el resultado."
   ]
  },
  {
   "cell_type": "code",
   "execution_count": 7,
   "metadata": {
    "scrolled": true
   },
   "outputs": [
    {
     "name": "stderr",
     "output_type": "stream",
     "text": [
      "Loading images: 100%|█████████████████████████████████████████████████████████████| 1700/1700 [00:06<00:00, 246.33it/s]\n",
      "Converting to video: 100%|███████████████████████████████████████████████████████| 1700/1700 [00:00<00:00, 1716.51it/s]\n"
     ]
    }
   ],
   "source": [
    "im2vid(expFilter_highway_path+'*.jpg','testvid.mp4')"
   ]
  },
  {
   "cell_type": "markdown",
   "metadata": {},
   "source": [
    "Mostramos el video en una ventana flotante."
   ]
  },
  {
   "cell_type": "code",
   "execution_count": 9,
   "metadata": {},
   "outputs": [],
   "source": [
    "showVideo('testvid.mp4')"
   ]
  },
  {
   "cell_type": "markdown",
   "metadata": {},
   "source": [
    "### Cálculo de métricas\n",
    "Calculamos las métricas comparando con el _ground truth_ propocionado. Para cada secuencia se proporciona una ROI (Region Of Interest) sobre la cual se realiza el groundtruth, para simplificar el cálculo se han seleccionada aquellas secuencias en las que la ROI sea toda la imagen. Por otro lado, también se especifica el _frame_ de inicio y final sobre los que se ha de realizar la verificación del algoritmo, por lo tanto solo se calcularán las métricas dentro de ese rango.  "
   ]
  },
  {
   "cell_type": "code",
   "execution_count": 12,
   "metadata": {
    "scrolled": false
   },
   "outputs": [
    {
     "name": "stderr",
     "output_type": "stream",
     "text": [
      "Loading images: 100%|████████████████████████████████████████████████████████████| 1700/1700 [00:01<00:00, 1331.68it/s]\n"
     ]
    }
   ],
   "source": [
    "# Cargamos el resultado del filtro exponencial en un array\n",
    "result_expFilter = loadImages(expFilter_highway_path+'*.jpg')\n",
    "\n",
    "# ground truth empieza en 470, los frames están numerados de 1 hasta 1700, pero el array de frames va de 0 a 1699\n",
    "start_frame = 469\n",
    "end_frame = 1699\n",
    "total_frames = end_frame-start_frame\n",
    "\n",
    "# Inicializamos un array para cada métrica donde se el resultado para cada frame\n",
    "tp_expFilter =  np.zeros(total_frames)\n",
    "fp_expFilter =  np.zeros(total_frames)\n",
    "fn_expFilter =  np.zeros(total_frames)\n",
    "tn_expFilter =  np.zeros(total_frames)\n",
    "\n",
    "# Calculamos las métricas True Positive, False Positive, False Negative, True Negative para cada frame\n",
    "for i in range(total_frames):\n",
    "    tp_expFilter[i], fp_expFilter[i], fn_expFilter[i], tn_expFilter[i] = comparator(result_expFilter[i+start_frame],\n",
    "                                                                                 groundTruth[i+start_frame])\n",
    "    \n",
    "# Calculamos las métricas Recall, Precision y F-measure para cada frame    \n",
    "recall_expFilter = recall(tp=tp_expFilter, fn=fn_expFilter)\n",
    "precision_expFilter = precision(tp=tp_expFilter, fp=fp_expFilter)\n",
    "fMeasure_expFilter = f_measure(precision=precision_expFilter, recall=recall_expFilter)\n",
    "\n",
    "# Calculamos las métricas anteriores para toda la secuencia en conjunto\n",
    "tp_expFilter_secuencia = tp_expFilter.sum()\n",
    "fp_expFilter_secuencia = fp_expFilter.sum()\n",
    "fn_expFilter_secuencia = fn_expFilter.sum()\n",
    "tn_expFilter_secuencia = tn_expFilter.sum()\n",
    "\n",
    "recall_expFilter_secuencia = recall(tp=tp_expFilter_secuencia, fn=fn_expFilter_secuencia)\n",
    "precision_expFilter_secuencia = precision(tp=tp_expFilter_secuencia, fp=tp_expFilter_secuencia)\n",
    "fMeasure_expFilter_secuencia = f_measure(precision=precision_expFilter_secuencia, recall=recall_expFilter_secuencia)"
   ]
  },
  {
   "cell_type": "code",
   "execution_count": 13,
   "metadata": {},
   "outputs": [
    {
     "data": {
      "text/plain": [
       "array([0.05653631, 0.04029126, 0.01318373, ..., 0.62876909, 0.61493709,\n",
       "       0.6044432 ])"
      ]
     },
     "execution_count": 13,
     "metadata": {},
     "output_type": "execute_result"
    }
   ],
   "source": [
    "precision_expFilter"
   ]
  },
  {
   "cell_type": "code",
   "execution_count": 17,
   "metadata": {},
   "outputs": [
    {
     "data": {
      "image/png": "[encoded data removed]",
      "text/plain": [
       "<Figure size 432x288 with 1 Axes>"
      ]
     },
     "metadata": {
      "needs_background": "light"
     },
     "output_type": "display_data"
    }
   ],
   "source": [
    "plt.plot(tp_expFilter)\n",
    "\n",
    "plt.show()"
   ]
  },
  {
   "cell_type": "markdown",
   "metadata": {},
   "source": [
    "## 1.2. Algoritmo MOG"
   ]
  },
  {
   "cell_type": "markdown",
   "metadata": {},
   "source": [
    "Aplicamos el algoritmo MOG (Mixture Of Gaussians)"
   ]
  },
  {
   "cell_type": "code",
   "execution_count": 18,
   "metadata": {},
   "outputs": [
    {
     "name": "stderr",
     "output_type": "stream",
     "text": [
      "Algorithm application: 100%|██████████████████████████████████████████████████████| 1700/1700 [00:04<00:00, 394.87it/s]\n"
     ]
    }
   ],
   "source": [
    "# baseline highway dataset output path\n",
    "MOG_highway_path = 'DATA/baseline/results/highway/MOG/'\n",
    "\n",
    "MOG(frames,MOG_highway_path)"
   ]
  },
  {
   "cell_type": "code",
   "execution_count": null,
   "metadata": {},
   "outputs": [],
   "source": [
    "im2vid(MOG_highway_path+'*.jpg','testvid.mp4')"
   ]
  },
  {
   "cell_type": "code",
   "execution_count": null,
   "metadata": {},
   "outputs": [],
   "source": [
    "showVideo('testvid.mp4')"
   ]
  },
  {
   "cell_type": "markdown",
   "metadata": {},
   "source": [
    "### Cálculo de métricas"
   ]
  },
  {
   "cell_type": "code",
   "execution_count": 19,
   "metadata": {},
   "outputs": [
    {
     "name": "stderr",
     "output_type": "stream",
     "text": [
      "Loading images: 100%|█████████████████████████████████████████████████████████████| 1700/1700 [00:07<00:00, 232.64it/s]\n"
     ]
    }
   ],
   "source": [
    "# Cargamos el resultado del filtro exponencial en un array\n",
    "result_MOG = loadImages(MOG_highway_path+'*.jpg')\n",
    "\n",
    "# ground truth empieza en 470, los frames están numerados de 1 hasta 1700, pero el array de frames va de 0 a 1699\n",
    "start_frame = 469\n",
    "end_frame = 1699\n",
    "total_frames = end_frame-start_frame\n",
    "\n",
    "# Inicializamos un array para cada métrica donde se el resultado para cada frame\n",
    "tp_MOG =  np.zeros(total_frames)\n",
    "fp_MOG =  np.zeros(total_frames)\n",
    "fn_MOG =  np.zeros(total_frames)\n",
    "tn_MOG =  np.zeros(total_frames)\n",
    "\n",
    "# Calculamos las métricas True Positive, False Positive, False Negative, True Negative para cada frame\n",
    "for i in range(total_frames):\n",
    "    tp_MOG[i], fp_MOG[i], fn_MOG[i], tn_MOG[i] = comparator(result_MOG[i+start_frame],\n",
    "                                                            groundTruth[i+start_frame])\n",
    "    \n",
    "# Calculamos las métricas Recall, Precision y F-measure para cada frame    \n",
    "recall_MOG = recall(tp=tp_MOG, fn=fn_MOG)\n",
    "precision_MOG = precision(tp=tp_MOG, fp=fp_MOG)\n",
    "fMeasure_MOG = f_measure(precision=precision_MOG, recall=recall_MOG)\n",
    "\n",
    "# Calculamos las métricas anteriores para toda la secuencia en conjunto\n",
    "tp_MOG_secuencia = tp_MOG.sum()\n",
    "fp_MOG_secuencia = fp_MOG.sum()\n",
    "fn_MOG_secuencia = fn_MOG.sum()\n",
    "tn_MOG_secuencia = tn_MOG.sum()\n",
    "\n",
    "recall_MOG_secuencia = recall(tp=tp_MOG_secuencia, fn=fn_MOG_secuencia)\n",
    "precision_MOG_secuencia = precision(tp=tp_MOG_secuencia, fp=tp_MOG_secuencia)\n",
    "fMeasure_MOG_secuencia = f_measure(precision=precision_MOG_secuencia, recall=recall_MOG_secuencia)"
   ]
  },
  {
   "cell_type": "markdown",
   "metadata": {},
   "source": [
    "## 1.3. Algoritmo MOG2"
   ]
  },
  {
   "cell_type": "code",
   "execution_count": 24,
   "metadata": {},
   "outputs": [
    {
     "name": "stderr",
     "output_type": "stream",
     "text": [
      "Algorithm application: 100%|██████████████████████████████████████████████████████| 1700/1700 [00:04<00:00, 344.89it/s]\n"
     ]
    }
   ],
   "source": [
    "# baseline highway dataset output path\n",
    "MOG2_highway_path = 'DATA/baseline/results/highway/MOG2/'\n",
    "\n",
    "MOG2(frames,MOG2_highway_path)"
   ]
  },
  {
   "cell_type": "code",
   "execution_count": null,
   "metadata": {},
   "outputs": [],
   "source": [
    "# Cargamos el resultado del filtro exponencial en un array\n",
    "result_MOG2 = loadImages(MOG2_highway_path+'*.jpg')\n",
    "\n",
    "# ground truth empieza en 470, los frames están numerados de 1 hasta 1700, pero el array de frames va de 0 a 1699\n",
    "start_frame = 469\n",
    "end_frame = 1699\n",
    "total_frames = end_frame-start_frame\n",
    "\n",
    "# Inicializamos un array para cada métrica donde se el resultado para cada frame\n",
    "tp_MOG2 =  np.zeros(total_frames)\n",
    "fp_MOG2 =  np.zeros(total_frames)\n",
    "fn_MOG2 =  np.zeros(total_frames)\n",
    "tn_MOG2 =  np.zeros(total_frames)\n",
    "\n",
    "# Calculamos las métricas True Positive, False Positive, False Negative, True Negative para cada frame\n",
    "for i in range(total_frames):\n",
    "    tp_MOG2[i], fp_MOG2[i], fn_MOG2[i], tn_MOG2[i] = comparator(result_MOG2[i+start_frame],\n",
    "                                                            groundTruth[i+start_frame])\n",
    "    \n",
    "# Calculamos las métricas Recall, Precision y F-measure para cada frame    \n",
    "recall_MOG2 = recall(tp=tp_MOG2, fn=fn_MOG2)\n",
    "precision_MOG2 = precision(tp=tp_MOG2, fp=fp_MOG2)\n",
    "fMeasure_MOG2 = f_measure(precision=precision_MOG2, recall=recall_MOG2)\n",
    "\n",
    "# Calculamos las métricas anteriores para toda la secuencia en conjunto\n",
    "tp_MOG2_secuencia = tp_MOG2.sum()\n",
    "fp_MOG2_secuencia = fp_MOG2.sum()\n",
    "fn_MOG2_secuencia = fn_MOG2.sum()\n",
    "tn_MOG2_secuencia = tn_MOG2.sum()\n",
    "\n",
    "recall_MOG2_secuencia = recall(tp=tp_MOG2_secuencia, fn=fn_MOG2_secuencia)\n",
    "precision_MOG2_secuencia = precision(tp=tp_MOG2_secuencia, fp=tp_MOG2_secuencia)\n",
    "fMeasure_MOG2_secuencia = f_measure(precision=precision_MOG2_secuencia, recall=recall_MOG2_secuencia)"
   ]
  },
  {
   "cell_type": "markdown",
   "metadata": {},
   "source": [
    "## Comparación resultados"
   ]
  },
  {
   "cell_type": "markdown",
   "metadata": {},
   "source": [
    "# 2. Secuencia _badminton_ del dataset _cameraJitter_"
   ]
  },
  {
   "cell_type": "markdown",
   "metadata": {},
   "source": [
    "Cargamos las imágenes de entrada y el ground truth con el que se calcularán las métricas."
   ]
  },
  {
   "cell_type": "code",
   "execution_count": 26,
   "metadata": {},
   "outputs": [
    {
     "name": "stderr",
     "output_type": "stream",
     "text": [
      "Loading images: 100%|█████████████████████████████████████████████████████████████| 1150/1150 [00:03<00:00, 296.71it/s]\n",
      "Loading images: 100%|█████████████████████████████████████████████████████████████| 1150/1150 [00:08<00:00, 129.45it/s]\n"
     ]
    }
   ],
   "source": [
    "#camaraJitter  badminton dataset input\n",
    "gt_badminton_path = 'DATA/cameraJitter/cameraJitter/badminton/groundtruth/*.png'\n",
    "in_badminton_path = 'DATA/cameraJitter/cameraJitter/badminton/input/*.jpg'\n",
    "\n",
    "groundTruth = loadImages(gt_badminton_path)\n",
    "frames = loadImages(in_badminton_path)"
   ]
  },
  {
   "cell_type": "markdown",
   "metadata": {},
   "source": [
    "## 2.1. Algoritmo filtro exponencial"
   ]
  },
  {
   "cell_type": "code",
   "execution_count": null,
   "metadata": {},
   "outputs": [],
   "source": [
    "# camaraJitter badminton dataset output path\n",
    "expFilter_badminton_path = 'DATA/cameraJitter/results/badminton/expFilter/'\n"
   ]
  },
  {
   "cell_type": "markdown",
   "metadata": {},
   "source": [
    "### Cálculo de métricas"
   ]
  },
  {
   "cell_type": "code",
   "execution_count": null,
   "metadata": {},
   "outputs": [],
   "source": []
  },
  {
   "cell_type": "markdown",
   "metadata": {},
   "source": [
    "## 2.2. Algoritmo MOG"
   ]
  },
  {
   "cell_type": "code",
   "execution_count": null,
   "metadata": {},
   "outputs": [],
   "source": [
    "# camaraJitter badminton dataset output paths\n",
    "MOG_badminton_path = 'DATA/cameraJitter/results/badminton/MOG/'"
   ]
  },
  {
   "cell_type": "markdown",
   "metadata": {},
   "source": [
    "### Cálculo de métricas"
   ]
  },
  {
   "cell_type": "code",
   "execution_count": null,
   "metadata": {},
   "outputs": [],
   "source": []
  },
  {
   "cell_type": "markdown",
   "metadata": {},
   "source": [
    "## 2.3. Algoritmo MOG"
   ]
  },
  {
   "cell_type": "code",
   "execution_count": null,
   "metadata": {},
   "outputs": [],
   "source": [
    "# camaraJitter badminton dataset output paths\n",
    "MOG2_badminton_path = 'DATA/cameraJitter/results/badminton/MOG2'"
   ]
  },
  {
   "cell_type": "markdown",
   "metadata": {},
   "source": [
    "### Cálculo de métricas"
   ]
  },
  {
   "cell_type": "code",
   "execution_count": null,
   "metadata": {},
   "outputs": [],
   "source": []
  },
  {
   "cell_type": "markdown",
   "metadata": {},
   "source": [
    "## Comparación resultados"
   ]
  },
  {
   "cell_type": "code",
   "execution_count": null,
   "metadata": {},
   "outputs": [],
   "source": []
  },
  {
   "cell_type": "markdown",
   "metadata": {},
   "source": [
    "# 3. Secuencia _canoe_ del dataset _dynamicBackground_"
   ]
  },
  {
   "cell_type": "code",
   "execution_count": null,
   "metadata": {},
   "outputs": [],
   "source": [
    "Cargamos las imágenes de entrada y el ground truth con el que se calcularán las métricas."
   ]
  },
  {
   "cell_type": "code",
   "execution_count": null,
   "metadata": {},
   "outputs": [],
   "source": [
    "# dynamicBackground  canoe dataset input\n",
    "gt_canoe_path = 'DATA/dynamicBackground/dynamicBackground/canoe/groundtruth/*.png'\n",
    "in_canoe_path = 'DATA/dynamicBackground/dynamicBackground/canoe/input/*.jpg'\n",
    "\n",
    "groundTruth = loadImages(gt_canoe_path)\n",
    "frames = loadImages(in_canoe_path)"
   ]
  },
  {
   "cell_type": "code",
   "execution_count": null,
   "metadata": {},
   "outputs": [],
   "source": []
  },
  {
   "cell_type": "code",
   "execution_count": null,
   "metadata": {},
   "outputs": [],
   "source": []
  },
  {
   "cell_type": "code",
   "execution_count": null,
   "metadata": {},
   "outputs": [],
   "source": []
  },
  {
   "cell_type": "code",
   "execution_count": null,
   "metadata": {},
   "outputs": [],
   "source": []
  },
  {
   "cell_type": "code",
   "execution_count": null,
   "metadata": {},
   "outputs": [],
   "source": []
  },
  {
   "cell_type": "code",
   "execution_count": null,
   "metadata": {},
   "outputs": [],
   "source": []
  },
  {
   "cell_type": "markdown",
   "metadata": {},
   "source": [
    "# 4. Secuencia _sofa_ del dataset _intermittentObjectMotion_"
   ]
  },
  {
   "cell_type": "code",
   "execution_count": null,
   "metadata": {},
   "outputs": [],
   "source": [
    "Cargamos las imágenes de entrada y el ground truth con el que se calcularán las métricas."
   ]
  },
  {
   "cell_type": "code",
   "execution_count": null,
   "metadata": {},
   "outputs": [],
   "source": [
    "# intermittentObjectMotion sofa dataset input\n",
    "gt_sofa_path = 'DATA/intermittentObjectMotion/intermittentObjectMotion/sofa/groundtruth/*.png'\n",
    "in_sofa_path = 'DATA/intermittentObjectMotion/intermittentObjectMotion/sofa/input/*.jpg'\n",
    "\n",
    "groundTruth = loadImages(gt_sofa_path)\n",
    "frames = loadImages(in_sofa_path)"
   ]
  },
  {
   "cell_type": "code",
   "execution_count": null,
   "metadata": {},
   "outputs": [],
   "source": []
  },
  {
   "cell_type": "code",
   "execution_count": null,
   "metadata": {},
   "outputs": [],
   "source": []
  },
  {
   "cell_type": "code",
   "execution_count": null,
   "metadata": {},
   "outputs": [],
   "source": []
  },
  {
   "cell_type": "code",
   "execution_count": null,
   "metadata": {},
   "outputs": [],
   "source": []
  },
  {
   "cell_type": "code",
   "execution_count": null,
   "metadata": {},
   "outputs": [],
   "source": []
  },
  {
   "cell_type": "code",
   "execution_count": null,
   "metadata": {},
   "outputs": [],
   "source": []
  },
  {
   "cell_type": "code",
   "execution_count": null,
   "metadata": {},
   "outputs": [],
   "source": []
  },
  {
   "cell_type": "markdown",
   "metadata": {},
   "source": [
    "# 5. Secuencia _copyMachine_ del dataset _shadow_"
   ]
  },
  {
   "cell_type": "code",
   "execution_count": null,
   "metadata": {},
   "outputs": [],
   "source": [
    "Cargamos las imágenes de entrada y el ground truth con el que se calcularán las métricas."
   ]
  },
  {
   "cell_type": "code",
   "execution_count": null,
   "metadata": {},
   "outputs": [],
   "source": [
    "# shadow copyMachine dataset input\n",
    "gt_copyMachine_path = 'DATA/shadow/shadow/copyMachine/groundtruth/*.png'\n",
    "in_copyMachine_path = 'DATA/shadow/shadow/copyMachine/input/*.jpg'\n",
    "\n",
    "groundTruth = loadImages(gt_copyMachine_path)\n",
    "frames = loadImages(in_copyMachine_path)"
   ]
  },
  {
   "cell_type": "code",
   "execution_count": null,
   "metadata": {},
   "outputs": [],
   "source": []
  },
  {
   "cell_type": "code",
   "execution_count": null,
   "metadata": {},
   "outputs": [],
   "source": []
  },
  {
   "cell_type": "code",
   "execution_count": null,
   "metadata": {},
   "outputs": [],
   "source": []
  },
  {
   "cell_type": "code",
   "execution_count": null,
   "metadata": {},
   "outputs": [],
   "source": []
  },
  {
   "cell_type": "code",
   "execution_count": null,
   "metadata": {},
   "outputs": [],
   "source": []
  },
  {
   "cell_type": "code",
   "execution_count": null,
   "metadata": {},
   "outputs": [],
   "source": []
  },
  {
   "cell_type": "code",
   "execution_count": null,
   "metadata": {},
   "outputs": [],
   "source": []
  }
 ],
 "metadata": {
  "kernelspec": {
   "display_name": "VPC Py38",
   "language": "python",
   "name": "visio_per_computador"
  },
  "language_info": {
   "codemirror_mode": {
    "name": "ipython",
    "version": 3
   },
   "file_extension": ".py",
   "mimetype": "text/x-python",
   "name": "python",
   "nbconvert_exporter": "python",
   "pygments_lexer": "ipython3",
   "version": "3.6.12"
  }
 },
 "nbformat": 4,
 "nbformat_minor": 1
}
