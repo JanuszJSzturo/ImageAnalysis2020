{
 "cells": [
  {
   "cell_type": "markdown",
   "metadata": {},
   "source": [
    "# Práctica Background Subtraction\n",
    "\n",
    "En esta segunda práctica del bloque de análisis de secuencias haremos trabajo con 3 técnicas de background subtraction.\n",
    "\n",
    "En primer lugar debéis implementar vuestro propio método de eliminación de fondo basado en la idea que explicamos del filtro exponencial. Podéis hacer las adaptaciones que encontréis necesario a la idea general del método para mejorar su rendimiento.\n",
    "\n",
    "En segundo lugar debéis de usar las implementaciones del MOG y del MOG2 que se encuentran en la librería\n",
    " [OpenCV](https://opencv-python-tutroals.readthedocs.io/en/latest/py_tutorials/py_video/py_bg_subtraction/py_bg_subtraction.html).\n",
    "\n",
    "En tercer lugar lo que quiero es que hagáis una comparativa entre su método y los dos basados en Mixture de gausiano utilizando el dataset de la competición [changedetection.net](http://changedetection.net/) del año 2012. \n",
    "\n",
    "En concreto debe usar una secuencia de cada categoría exceptuando la de *Thermal*.\n",
    "\n",
    "Las métricas que a usar para cada secuencia son:\n",
    "\n",
    "* **TP** : True Positive\n",
    "* **FP** : False Positive\n",
    "* **FN** : False Negative\n",
    "* **TN** : True Negative\n",
    "* **Re (Recall)** : TP / (TP + FN)\n",
    "* **F-Measure** : (2 * Precision * Recall) / (Precision + Recall)\n",
    "* **Precision** : TP / (TP + FP)\n",
    "\n",
    "Finalmente se pide que hagáis un análisis de los resultados obtenidos por cada secuencia: problemas, carencias, puntos fuertes de los algoritmos ...\n",
    "\n",
    "**Entrega:**\n",
    "\n",
    "* Explicación del algoritmo implementado y código fuente.\n",
    "* Resultados de las secuencias en formato imagen o video.\n",
    "* Resultados de las secuencias en formato tabla resumen de las métricas.\n",
    "* Análisis de los resultados"
   ]
  }
 ],
 "metadata": {
  "kernelspec": {
   "display_name": "Python 3",
   "language": "python",
   "name": "python3"
  },
  "language_info": {
   "codemirror_mode": {
    "name": "ipython",
    "version": 3
   },
   "file_extension": ".py",
   "mimetype": "text/x-python",
   "name": "python",
   "nbconvert_exporter": "python",
   "pygments_lexer": "ipython3",
   "version": "3.6.12"
  }
 },
 "nbformat": 4,
 "nbformat_minor": 2
}
